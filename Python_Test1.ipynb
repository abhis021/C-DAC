{
 "cells": [
  {
   "cell_type": "raw",
   "id": "9e98c53a-f466-43bd-be41-8c70f4bd595d",
   "metadata": {},
   "source": [
    "Q1.Write a program to print minimum element from a tuple."
   ]
  },
  {
   "cell_type": "code",
   "execution_count": 26,
   "id": "c9903d60-9ea4-4e94-b067-1d0256cdc846",
   "metadata": {},
   "outputs": [
    {
     "name": "stdout",
     "output_type": "stream",
     "text": [
      "min value element :  0\n"
     ]
    }
   ],
   "source": [
    "tuple = (1,2,3,4,5,6,7,8,9,0) # tuple with a few elements\n",
    "\n",
    "print(\"min value element : \", min(tuple)) # using min function to find the minimum element from the tuple"
   ]
  },
  {
   "cell_type": "raw",
   "id": "6b468b73-a27f-4971-9f9b-e0b7130cc1cf",
   "metadata": {},
   "source": [
    "Q2.Sum all the numbers entered by user till he enter zero."
   ]
  },
  {
   "cell_type": "code",
   "execution_count": 27,
   "id": "5d1b146d-7859-4f73-903b-a8eeb1c0f960",
   "metadata": {},
   "outputs": [
    {
     "name": "stdin",
     "output_type": "stream",
     "text": [
      "Input an integer (0 terminates):  1\n",
      "Input an integer (0 terminates):  2\n",
      "Input an integer (0 terminates):  3\n",
      "Input an integer (0 terminates):  4\n",
      "Input an integer (0 terminates):  5\n",
      "Input an integer (0 terminates):  6\n",
      "Input an integer (0 terminates):  7\n",
      "Input an integer (0 terminates):  8\n",
      "Input an integer (0 terminates):  9\n",
      "Input an integer (0 terminates):  0\n"
     ]
    },
    {
     "name": "stdout",
     "output_type": "stream",
     "text": [
      "\n",
      "The sum of all integers:  45\n"
     ]
    }
   ],
   "source": [
    "even_sum = 0\n",
    "odd_sum = 0\n",
    "\n",
    "while True:\n",
    "    num = int(input(\"Input an integer (0 terminates): \"))\n",
    "    if num == 0:\n",
    "        break\n",
    "    if num < 1:\n",
    "        continue\n",
    "    if num % 2 == 0: #sums even numbers\n",
    "        even_sum += num\n",
    "    else:\n",
    "        odd_sum += num #sums odd numbers\n",
    "\n",
    "total = even_sum + odd_sum # total of all the numbers entered by user.\n",
    "print(\"\")\n",
    "print(\"The sum of all integers: \", total)"
   ]
  },
  {
   "cell_type": "raw",
   "id": "1ac43bdc-c3e8-4a00-bd27-499f7660d984",
   "metadata": {},
   "source": [
    "Q3.Store your friends names in a dictionary  and find out the friend whose name is longest."
   ]
  },
  {
   "cell_type": "code",
   "execution_count": 21,
   "id": "cbd415ee-7c75-42d8-8609-21df1ea34918",
   "metadata": {},
   "outputs": [
    {
     "name": "stdout",
     "output_type": "stream",
     "text": [
      "Rajendrakumar\n"
     ]
    }
   ],
   "source": [
    "a_dictionary = {\"Raju\":1, \"Pawan\":2, \"Achin\":3, \"Vicky\":4, \"Rajendrakumar\":5}\n",
    "\n",
    "# get key with max value\n",
    "max_key = max(a_dictionary, key=a_dictionary.get)\n",
    "\n",
    "print(max_key)"
   ]
  },
  {
   "cell_type": "code",
   "execution_count": null,
   "id": "43a7e411-b25f-447b-b9b0-84c8de7d38b5",
   "metadata": {},
   "outputs": [],
   "source": [
    "Q4.Write a program to compute the length of a given string ignoring spaces."
   ]
  },
  {
   "cell_type": "code",
   "execution_count": 19,
   "id": "b122da89-1ae6-47ca-9cb1-52d5c53cf024",
   "metadata": {},
   "outputs": [
    {
     "name": "stdin",
     "output_type": "stream",
     "text": [
      "Enter string:  Hello World\n"
     ]
    },
    {
     "name": "stdout",
     "output_type": "stream",
     "text": [
      "Length of string 10\n"
     ]
    }
   ],
   "source": [
    "#takes a string from user\n",
    "a_string = input(\"Enter string: \")\n",
    "\n",
    "#takes the length of string and then subtracts the number of spaces from it to give length of string without spaces\n",
    "number_of_letters = len(a_string) - a_string.count(\" \")\n",
    "\n",
    "print(\"Length of string\", number_of_letters)"
   ]
  },
  {
   "cell_type": "code",
   "execution_count": null,
   "id": "549553cd-3cce-4dca-8f31-191705919d26",
   "metadata": {},
   "outputs": [],
   "source": [
    "Q5.Program to print all different arrangements of the letters M,N and O."
   ]
  },
  {
   "cell_type": "code",
   "execution_count": 3,
   "id": "bf579cac-7b57-4677-a8f7-92d16fda1183",
   "metadata": {},
   "outputs": [
    {
     "name": "stdin",
     "output_type": "stream",
     "text": [
      "Enter the letters: ABC\n"
     ]
    },
    {
     "name": "stdout",
     "output_type": "stream",
     "text": [
      "______________\n",
      "ABC\n",
      "______________\n",
      "ACB\n",
      "______________\n",
      "BAC\n",
      "______________\n",
      "BCA\n",
      "______________\n",
      "CBA\n",
      "______________\n",
      "CAB\n"
     ]
    }
   ],
   "source": [
    "# Function to swap two characters in a character array\n",
    "def swap(ch, i, j):\n",
    "    temp = ch[i]\n",
    "    ch[i] = ch[j]\n",
    "    ch[j] = temp\n",
    " \n",
    " \n",
    "# Recursive function to generate all permutations of a string\n",
    "def permutations(ch, curr_index=0):\n",
    " \n",
    "    if curr_index == len(ch) - 1:\n",
    "        print(\"______________\")\n",
    "        print(''.join(ch))\n",
    " \n",
    "    for i in range(curr_index, len(ch)):\n",
    "        swap(ch, curr_index, i)\n",
    "        permutations(ch, curr_index + 1)\n",
    "        swap(ch, curr_index, i)\n",
    " \n",
    " \n",
    "if __name__ == '__main__':\n",
    " \n",
    "    s = input( \"Enter the letters:\" )\n",
    "    permutations(list(s))"
   ]
  },
  {
   "cell_type": "code",
   "execution_count": null,
   "id": "5f8bee39-0cac-4eea-927d-c071eaa49bcf",
   "metadata": {},
   "outputs": [],
   "source": []
  }
 ],
 "metadata": {
  "kernelspec": {
   "display_name": "Python 3",
   "language": "python",
   "name": "python3"
  },
  "language_info": {
   "codemirror_mode": {
    "name": "ipython",
    "version": 3
   },
   "file_extension": ".py",
   "mimetype": "text/x-python",
   "name": "python",
   "nbconvert_exporter": "python",
   "pygments_lexer": "ipython3",
   "version": "3.9.7"
  }
 },
 "nbformat": 4,
 "nbformat_minor": 5
}
