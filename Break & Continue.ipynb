{
 "cells": [
  {
   "cell_type": "code",
   "execution_count": null,
   "metadata": {},
   "outputs": [],
   "source": [
    "n = 10\n",
    "while True:\n",
    "    print(n, end=' ')\n",
    "    n = n - 1\n",
    "print('Done!')"
   ]
  },
  {
   "cell_type": "markdown",
   "metadata": {},
   "source": [
    "you can check the condition\n",
    "anywhere in the loop (not just at the top) and you can express the stop condition\n",
    "affirmatively (“stop when this happens”) rather than negatively (“keep going until\n",
    "that happens.”)."
   ]
  },
  {
   "cell_type": "code",
   "execution_count": 1,
   "metadata": {},
   "outputs": [
    {
     "name": "stdout",
     "output_type": "stream",
     "text": [
      "> word\n",
      "word\n",
      "> eee\n",
      "eee\n",
      "> dffdg\n",
      "dffdg\n",
      "> rer\n",
      "rer\n",
      "> fdfd\n",
      "fdfd\n",
      "> dfsdf\n",
      "dfsdf\n",
      "> done\n",
      "Done!\n"
     ]
    }
   ],
   "source": [
    "while True:\n",
    "    line = input('> ')\n",
    "   \n",
    "\n",
    "    print(line)\n",
    "print('Done!')\n"
   ]
  },
  {
   "cell_type": "markdown",
   "metadata": {},
   "source": [
    "Sometimes you are in an iteration of a loop and want to finish the current iteration\n",
    "and immediately jump to the next iteration. In that case you can use the continue\n",
    "statement to skip to the next iteration without finishing the body of the loop for\n",
    "the current iteration."
   ]
  },
  {
   "cell_type": "markdown",
   "metadata": {},
   "source": [
    "Here is an example of a loop that copies its input until the user types “done”, but\n",
    "treats lines that start with the hash character as lines not to be printed (kind of\n",
    "like Python comments)."
   ]
  },
  {
   "cell_type": "code",
   "execution_count": 2,
   "metadata": {},
   "outputs": [
    {
     "name": "stdout",
     "output_type": "stream",
     "text": [
      "> dsfd vcvc\n",
      "dsfd vcvc\n",
      "> jlkl\n",
      "jlkl\n",
      "> # sdfdgd\n",
      "> done\n",
      "Done!\n"
     ]
    }
   ],
   "source": [
    "while True:\n",
    "    line = input('> ')\n",
    "    if line[0] == '#':\n",
    "        continue\n",
    "    if line == 'done':\n",
    "        break\n",
    "    print(line)\n",
    "print('Done!')\n"
   ]
  },
  {
   "cell_type": "code",
   "execution_count": null,
   "metadata": {},
   "outputs": [],
   "source": [
    "The program to compute an average without a list:"
   ]
  },
  {
   "cell_type": "code",
   "execution_count": 4,
   "metadata": {},
   "outputs": [
    {
     "name": "stdout",
     "output_type": "stream",
     "text": [
      "Enter a number: 12\n",
      "Enter a number: 34\n",
      "Enter a number: 45\n",
      "Enter a number: 56\n",
      "Enter a number: done\n",
      "Average: 36.75\n"
     ]
    }
   ],
   "source": [
    "total = 0\n",
    "count = 0\n",
    "while (True):\n",
    "    inp = input('Enter a number: ')\n",
    "    if inp == 'done':\n",
    "        break\n",
    "    value = float(inp)\n",
    "    total = total + value\n",
    "    count = count + 1\n",
    "average = total / count\n",
    "print('Average:', average)"
   ]
  },
  {
   "cell_type": "code",
   "execution_count": 6,
   "metadata": {},
   "outputs": [
    {
     "name": "stdout",
     "output_type": "stream",
     "text": [
      "Enter a number: 12 \n",
      "Enter a number: 23\n",
      "Enter a number: 12\n",
      "Enter a number: 34\n",
      "Enter a number: done\n",
      "Average: 20.25\n"
     ]
    }
   ],
   "source": [
    "numlist = list()\n",
    "while (True):\n",
    "    inp = input('Enter a number: ')\n",
    "    if inp == 'done': \n",
    "        break\n",
    "    value = float(inp)\n",
    "    numlist.append(value)\n",
    "average = sum(numlist) / len(numlist)\n",
    "print('Average:', average)"
   ]
  },
  {
   "cell_type": "code",
   "execution_count": 9,
   "metadata": {},
   "outputs": [
    {
     "data": {
      "text/plain": [
       "'pining,for,the,fjords'"
      ]
     },
     "execution_count": 9,
     "metadata": {},
     "output_type": "execute_result"
    }
   ],
   "source": [
    "t = ['pining', 'for', 'the', 'fjords']\n",
    "delimiter = '|'\n",
    "delimiter.join(t)\n"
   ]
  },
  {
   "cell_type": "markdown",
   "metadata": {},
   "source": [
    " The line starts with “From”, split\n",
    "those lines, and then print out the third word in the line"
   ]
  },
  {
   "cell_type": "code",
   "execution_count": null,
   "metadata": {},
   "outputs": [],
   "source": [
    "fhand=\"From stephen.marquard@uct.ac.zaSat Jan 5 09:14:16 2008\"\n",
    "for line in fhand:\n",
    "    line = line.rstrip()\n",
    "    if not line.startswith('From '): continue\n",
    "        words = line.split()\n",
    "        print(words[2])\n"
   ]
  },
  {
   "cell_type": "markdown",
   "metadata": {},
   "source": [
    "For each line,\n",
    "split the line into a list of words using the split function.\n",
    "For each word, check to see if the word is already in a list. If the word is not in\n",
    "the list, add it to the list.\n",
    "When the program completes, sort and print the resulting words in alphabetical\n",
    "order.\n"
   ]
  },
  {
   "cell_type": "code",
   "execution_count": 15,
   "metadata": {},
   "outputs": [
    {
     "name": "stdout",
     "output_type": "stream",
     "text": [
      "['stephen.marquard@uct.ac.za', 'stephen.marquard@uct.ac.za']\n"
     ]
    }
   ],
   "source": [
    "fhand=open('newrom.txt')\n",
    "\n",
    "          \n",
    "newline=[]\n",
    "\n",
    "for line in fhand:\n",
    "    #print(line)\n",
    "    line=line.rstrip()\n",
    "   \n",
    "    if line.startswith('From:'):\n",
    "        \n",
    "        word=line.split()\n",
    "        if word[0]=='From:':\n",
    "            newline.append(word[1])\n",
    "print(newline)"
   ]
  },
  {
   "cell_type": "code",
   "execution_count": null,
   "metadata": {},
   "outputs": [],
   "source": []
  },
  {
   "cell_type": "code",
   "execution_count": null,
   "metadata": {},
   "outputs": [],
   "source": []
  }
 ],
 "metadata": {
  "kernelspec": {
   "display_name": "Python 3",
   "language": "python",
   "name": "python3"
  },
  "language_info": {
   "codemirror_mode": {
    "name": "ipython",
    "version": 3
   },
   "file_extension": ".py",
   "mimetype": "text/x-python",
   "name": "python",
   "nbconvert_exporter": "python",
   "pygments_lexer": "ipython3",
   "version": "3.7.6"
  }
 },
 "nbformat": 4,
 "nbformat_minor": 4
}
