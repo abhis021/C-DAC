{
 "cells": [
  {
   "cell_type": "markdown",
   "metadata": {},
   "source": [
    "# Q1.Check weather the given number is even or odd"
   ]
  },
  {
   "cell_type": "code",
   "execution_count": 2,
   "metadata": {},
   "outputs": [
    {
     "name": "stdout",
     "output_type": "stream",
     "text": [
      "Enter any number3\n",
      "Number is odd\n"
     ]
    }
   ],
   "source": [
    "n=int(input(\"Enter any number\"))\n",
    "if n%2==0:\n",
    "    print(\"Number is even\")\n",
    "else:\n",
    "    print(\"Number is odd\")\n",
    "   "
   ]
  },
  {
   "cell_type": "markdown",
   "metadata": {},
   "source": [
    "# 1.\tWrite a program to find the factors of a given number and check whether the factor is even or odd.\n",
    "Hint: Use Loop with if-else statements\n"
   ]
  },
  {
   "cell_type": "code",
   "execution_count": 10,
   "metadata": {},
   "outputs": [
    {
     "name": "stdout",
     "output_type": "stream",
     "text": [
      "Enter any number10\n",
      "[1, 2, 5, 10]\n"
     ]
    }
   ],
   "source": [
    "n=int(input(\"Enter any number\"))\n",
    "# I need to generate the numbers ranging from 1 to n\n",
    "# how i can get these numbers\n",
    "# range function ending number is n-1\n",
    "# n+1-1=n\n",
    "list1=[]\n",
    "for i in range(1,n+1):\n",
    "    if n%i==0:\n",
    "        list1.append(i)\n",
    "print(list1)\n",
    "\n",
    "\n",
    "    \n",
    "        \n",
    "        # 10%1 yes\n",
    "        # 10%2 yes\n",
    "        # 10%3 no\n",
    "        # 10%4 no\n",
    "        # if i completly divides n it means it is a factor of n\n",
    "#Next divide n with each of the number generated \n"
   ]
  },
  {
   "cell_type": "code",
   "execution_count": 13,
   "metadata": {},
   "outputs": [
    {
     "name": "stdout",
     "output_type": "stream",
     "text": [
      "1\n",
      "2\n",
      "5\n",
      "10\n",
      "[1, 5]\n",
      "[2, 10]\n"
     ]
    }
   ],
   "source": [
    "odd=[]\n",
    "even=[]\n",
    "for i in list1:\n",
    "    print(i)\n",
    "    if i%2==0:\n",
    "        even.append(i)\n",
    "    else:\n",
    "        odd.append(i)\n",
    "print(odd)\n",
    "print(even) "
   ]
  },
  {
   "cell_type": "code",
   "execution_count": 15,
   "metadata": {},
   "outputs": [
    {
     "name": "stdout",
     "output_type": "stream",
     "text": [
      "[1, 2, 5, 10]\n",
      "[1, 5]\n",
      "[2, 10]\n"
     ]
    }
   ],
   "source": [
    "list1=[]\n",
    "even=[]\n",
    "odd=[]\n",
    "for i in range(1,n+1):\n",
    "    if n%i==0:\n",
    "        list1.append(i)\n",
    "        if i%2==0:\n",
    "            even.append(i)\n",
    "        else:\n",
    "            odd.append(i)\n",
    "print(list1)\n",
    "print(odd)\n",
    "print(even) "
   ]
  },
  {
   "cell_type": "markdown",
   "metadata": {},
   "source": [
    "# 2. Write a code that accepts a sequence of words as input and prints the words in a sequence after sorting them alphabetically.\n",
    "       Hint: Use split() to split the string into a list and then apply sort()\n",
    "Enter Sequence of words :you are welcome Hi\n",
    "you are welcome Hi\n",
    "['are', 'hi', 'welcome', 'you']\n"
   ]
  },
  {
   "cell_type": "code",
   "execution_count": 16,
   "metadata": {},
   "outputs": [
    {
     "name": "stdout",
     "output_type": "stream",
     "text": [
      "Enter the sequence of wordsmy first word is\n",
      "my first word is\n"
     ]
    }
   ],
   "source": [
    "seq_word=input(\"Enter the sequence of words\")\n",
    "print(seq_word)"
   ]
  },
  {
   "cell_type": "code",
   "execution_count": 36,
   "metadata": {},
   "outputs": [
    {
     "name": "stdout",
     "output_type": "stream",
     "text": [
      "List before sorting\n",
      "['my', 'first', 'word', 'is']\n",
      "List after sorting\n",
      "['first', 'is', 'my', 'word']\n"
     ]
    }
   ],
   "source": [
    "mylist=[]\n",
    "for word in seq_word.split():\n",
    "    #print(word)\n",
    "    mylist.append(word)\n",
    "print(\"List before sorting\")\n",
    "print(mylist)\n",
    "mylist.sort()\n",
    "print(\"List after sorting\")\n",
    "print(mylist)\n",
    "    "
   ]
  },
  {
   "cell_type": "code",
   "execution_count": null,
   "metadata": {},
   "outputs": [],
   "source": []
  },
  {
   "cell_type": "code",
   "execution_count": null,
   "metadata": {},
   "outputs": [],
   "source": []
  },
  {
   "cell_type": "markdown",
   "metadata": {},
   "source": [
    "# 3. Write a program that will find all the numbers between 1000 and 3000 (both excluded) such that each digit of a number is an odd number. Print the number of such elements"
   ]
  },
  {
   "cell_type": "code",
   "execution_count": 61,
   "metadata": {},
   "outputs": [
    {
     "name": "stdout",
     "output_type": "stream",
     "text": [
      "[9, 9, 9, 2]\n"
     ]
    }
   ],
   "source": [
    "for n in range(1000+1,3000):\n",
    "    list1=[]\n",
    "    while(n!=0):\n",
    "        rem=n%10\n",
    "        quo=n//10\n",
    "        n=quo\n",
    "        list1.append(rem)\n",
    "print(list1)\n",
    "    "
   ]
  },
  {
   "cell_type": "code",
   "execution_count": 60,
   "metadata": {},
   "outputs": [
    {
     "name": "stdout",
     "output_type": "stream",
     "text": [
      "[1, 1, 2, 2]\n"
     ]
    }
   ],
   "source": [
    "n=2211\n",
    "\n",
    "list1=[]\n",
    "while(n!=0):\n",
    "    rem=n%10\n",
    "    quo=n//10\n",
    "    n=quo\n",
    "    list1.append(rem)\n",
    "print(list1)\n",
    "    \n",
    "    \n",
    "    \n",
    "\n"
   ]
  },
  {
   "cell_type": "code",
   "execution_count": 69,
   "metadata": {},
   "outputs": [
    {
     "name": "stdout",
     "output_type": "stream",
     "text": [
      "['1111', '1113', '1115', '1117', '1119', '1131', '1133', '1135', '1137', '1139', '1151', '1153', '1155', '1157', '1159', '1171', '1173', '1175', '1177', '1179', '1191', '1193', '1195', '1197', '1199', '1311', '1313', '1315', '1317', '1319', '1331', '1333', '1335', '1337', '1339', '1351', '1353', '1355', '1357', '1359', '1371', '1373', '1375', '1377', '1379', '1391', '1393', '1395', '1397', '1399', '1511', '1513', '1515', '1517', '1519', '1531', '1533', '1535', '1537', '1539', '1551', '1553', '1555', '1557', '1559', '1571', '1573', '1575', '1577', '1579', '1591', '1593', '1595', '1597', '1599', '1711', '1713', '1715', '1717', '1719', '1731', '1733', '1735', '1737', '1739', '1751', '1753', '1755', '1757', '1759', '1771', '1773', '1775', '1777', '1779', '1791', '1793', '1795', '1797', '1799', '1911', '1913', '1915', '1917', '1919', '1931', '1933', '1935', '1937', '1939', '1951', '1953', '1955', '1957', '1959', '1971', '1973', '1975', '1977', '1979', '1991', '1993', '1995', '1997', '1999']\n"
     ]
    }
   ],
   "source": [
    "items=[]\n",
    "for i in range(1001,3000):\n",
    "    s=str(i)\n",
    "    #print(s[0],s[1],s[2],s[3])\n",
    "    \n",
    "    if (int(s[0])%2!=0) and (int(s[1])%2!=0) and (int(s[2])%2!=0) and (int(s[3])%2!=0):\n",
    "        items.append(s)\n",
    "print(items)\n",
    "    \n",
    "    \n",
    "    \n",
    "    "
   ]
  },
  {
   "cell_type": "markdown",
   "metadata": {},
   "source": [
    "# 4. Write a program that accepts a string and calculates the number of letters and digits. Suppose if the entered string is: Edureka123 Then the output will be: LETTERS: - 7 DIGITS: - 3 5. Design a code which will find whether the given number is Palindrome number or not"
   ]
  },
  {
   "cell_type": "code",
   "execution_count": null,
   "metadata": {},
   "outputs": [],
   "source": [
    "# isalpha() is a function used to check character\n",
    "string1=\"elephant123\"\n",
    "count_al=0\n",
    "count_di=0\n",
    "for :\n",
    "    "
   ]
  }
 ],
 "metadata": {
  "kernelspec": {
   "display_name": "Python 3",
   "language": "python",
   "name": "python3"
  },
  "language_info": {
   "codemirror_mode": {
    "name": "ipython",
    "version": 3
   },
   "file_extension": ".py",
   "mimetype": "text/x-python",
   "name": "python",
   "nbconvert_exporter": "python",
   "pygments_lexer": "ipython3",
   "version": "3.9.7"
  }
 },
 "nbformat": 4,
 "nbformat_minor": 4
}
