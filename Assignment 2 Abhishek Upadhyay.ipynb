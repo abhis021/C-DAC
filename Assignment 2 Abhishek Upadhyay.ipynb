{
 "cells": [
  {
   "cell_type": "raw",
   "id": "325a4efd-ac33-431a-a7ed-6f98350a2c45",
   "metadata": {},
   "source": [
    "Smith wishes to register in a ticker booking website for booking bus tickets. For authenticating the registration, he needs to provide user-id and password. There are some built-in rules for checking the validity of the passwords entered by the users. Following are the rules for checking the validity of a password:\n",
    "\n",
    "1. At least 1 alphabet\n",
    "2. At least 1 digit[0-9]\n",
    "3. At least 1 character [@&]\n",
    "4. Minimum length of transaction password: 5 Characters.\n",
    "5. Maximum length of transaction password: 10 Characters."
   ]
  },
  {
   "cell_type": "code",
   "execution_count": 3,
   "id": "3c66f577-877f-42d7-93e7-1caa3a0b314c",
   "metadata": {},
   "outputs": [
    {
     "name": "stdin",
     "output_type": "stream",
     "text": [
      "Enter a password:  niGGer1\n"
     ]
    },
    {
     "name": "stdout",
     "output_type": "stream",
     "text": [
      "Password should have at least one of the symbols @&\n",
      "Invalid Password !!\n"
     ]
    }
   ],
   "source": [
    "# Function to validate the password\n",
    "def password_check(passwd):\n",
    "\t\n",
    "\tSpecialSym =['&', '@']\n",
    "\tval = True\n",
    "\t\n",
    "\tif len(passwd) < 5:\n",
    "\t\tprint('Password should be at least 5 characters long.')\n",
    "\t\tval = False\n",
    "\t\t\n",
    "\tif len(passwd) > 10:\n",
    "\t\tprint('Password should not be more than 10 characters long.')\n",
    "\t\tval = False\n",
    "\t\t\n",
    "\tif not any(char.isdigit() for char in passwd):\n",
    "\t\tprint('Password should have at least one numeral')\n",
    "\t\tval = False\n",
    "\t\t\n",
    "\tif not any(char.isupper() for char in passwd):\n",
    "\t\tprint('Password should have at least one uppercase letter')\n",
    "\t\tval = False\n",
    "\t\t\n",
    "\tif not any(char.islower() for char in passwd):\n",
    "\t\tprint('Password should have at least one lowercase letter')\n",
    "\t\tval = False\n",
    "\t\t\n",
    "\tif not any(char in SpecialSym for char in passwd):\n",
    "\t\tprint('Password should have at least one of the symbols @&')\n",
    "\t\tval = False\n",
    "\tif val:\n",
    "\t\treturn val\n",
    "\n",
    "# Main method\n",
    "def main():\n",
    "\tpasswd = input(\"Enter a password: \")\n",
    "\t\n",
    "\tif (password_check(passwd)):\n",
    "\t\tprint(\"Password is valid\")\n",
    "\telse:\n",
    "\t\tprint(\"Invalid Password !!\")\n",
    "\t\t\n",
    "# Driver Code\t\t\n",
    "if __name__ == '__main__':\n",
    "\tmain()\n"
   ]
  },
  {
   "cell_type": "raw",
   "id": "a1c279b0-51cd-4328-bf20-17008c4b8b29",
   "metadata": {},
   "source": [
    "Write a program for printing all elements of a list and their indexes in the list. Take the list as a user input."
   ]
  },
  {
   "cell_type": "code",
   "execution_count": 22,
   "id": "5f8f9255-2c9c-4eaa-ae5c-30198d68e6a2",
   "metadata": {},
   "outputs": [
    {
     "name": "stdin",
     "output_type": "stream",
     "text": [
      "Enter a list or elements separated by comam. Apple, mango, juice, tomato, vegetarian\n"
     ]
    },
    {
     "name": "stdout",
     "output_type": "stream",
     "text": [
      "['Apple', ' mango', ' juice', ' tomato', ' vegetarian']\n"
     ]
    }
   ],
   "source": [
    "a = input(\"Enter a list or elements separated by comam.\").split(\",\")\n",
    "\n",
    "print(a)\n",
    "\n",
    "#incomplete but takes a list or elements and shows them."
   ]
  },
  {
   "cell_type": "raw",
   "id": "8ec4e805-4b8e-4714-ab94-f94fc0f43db7",
   "metadata": {},
   "source": [
    "Write a program which accepts a string from the console and print the characters that have even indexes, if the character is an alphabet. Concatenate the characters and print."
   ]
  },
  {
   "cell_type": "code",
   "execution_count": 24,
   "id": "c76bd358-aab1-4654-9b4b-3c78263a23d0",
   "metadata": {},
   "outputs": [
    {
     "name": "stdout",
     "output_type": "stream",
     "text": [
      "Please enter text to print:\n"
     ]
    },
    {
     "name": "stdin",
     "output_type": "stream",
     "text": [
      " The pirates of caribbean.\n"
     ]
    },
    {
     "name": "stdout",
     "output_type": "stream",
     "text": [
      "-------------------\n",
      "You Entered: The pirates of caribbean.\n",
      "Result:\n",
      "Teprtesore.\n"
     ]
    }
   ],
   "source": [
    "print(\"Please enter text to print:\")\n",
    "inputchars = input()\n",
    "\n",
    "if inputchars:\n",
    "\tstring = \"\"\n",
    "\tfor i in inputchars:\n",
    "\t\tif inputchars.index(i)%2 == 0:\n",
    "\t\t\tstring += str(i)\n",
    "\t\n",
    "\tprint('-------------------')\n",
    "\tprint(\"You Entered:\", inputchars)\n",
    "\tprint(\"Result:\")\n",
    "\tprint(string)\n"
   ]
  },
  {
   "cell_type": "raw",
   "id": "f646a45f-3c59-44bf-96ad-d6183e748a8d",
   "metadata": {},
   "source": [
    "Write a program which accepts a string from console and print it in reverse order."
   ]
  },
  {
   "cell_type": "code",
   "execution_count": 26,
   "id": "a4e8aded-5df6-4ea0-9d21-408b08a8abd3",
   "metadata": {},
   "outputs": [
    {
     "name": "stdin",
     "output_type": "stream",
     "text": [
      "Enter the string to reverse:  Hello World\n"
     ]
    },
    {
     "name": "stdout",
     "output_type": "stream",
     "text": [
      "dlroW olleH\n"
     ]
    }
   ],
   "source": [
    "def string_reverser(x):\n",
    "    return x[::-1]\n",
    "txt = input(\"Enter the string to reverse: \")\n",
    "print(string_reverser(txt))\n"
   ]
  },
  {
   "cell_type": "raw",
   "id": "a19ebb64-3b4e-4d8c-afad-34b2cfe1dddf",
   "metadata": {},
   "source": [
    "Write a program which counts and prints the numbers of each character in string input by the console."
   ]
  },
  {
   "cell_type": "code",
   "execution_count": null,
   "id": "86799f74-fe1b-4355-bad5-61f1dc57cbe5",
   "metadata": {},
   "outputs": [],
   "source": []
  }
 ],
 "metadata": {
  "kernelspec": {
   "display_name": "Python 3",
   "language": "python",
   "name": "python3"
  },
  "language_info": {
   "codemirror_mode": {
    "name": "ipython",
    "version": 3
   },
   "file_extension": ".py",
   "mimetype": "text/x-python",
   "name": "python",
   "nbconvert_exporter": "python",
   "pygments_lexer": "ipython3",
   "version": "3.9.7"
  }
 },
 "nbformat": 4,
 "nbformat_minor": 5
}
