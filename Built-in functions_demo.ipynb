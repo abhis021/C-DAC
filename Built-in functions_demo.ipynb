{
 "cells": [
  {
   "cell_type": "markdown",
   "metadata": {},
   "source": [
    "## Built-In-Functions\n"
   ]
  },
  {
   "cell_type": "code",
   "execution_count": 21,
   "metadata": {},
   "outputs": [
    {
     "name": "stdout",
     "output_type": "stream",
     "text": [
      "[1, 3, 4, 5, 10]\n",
      "[5, 1, 3, 10, 4]\n",
      "[11, 33, 44, 55, 100]\n",
      "(55, 11, 33, 100, 44)\n"
     ]
    }
   ],
   "source": [
    "# Example 1 --- sorted()\n",
    "## sorted() will sort a sequence like list, tuple in ascending order but the original sequence remains unchanged\n",
    "\n",
    "list1=[5,1,3,10,4]\n",
    "print(sorted(list1))\n",
    "print(list1)\n",
    "tuple1=(55,11,33,100,44)\n",
    "print(sorted(tuple1))\n",
    "print(tuple1)"
   ]
  },
  {
   "cell_type": "code",
   "execution_count": 22,
   "metadata": {},
   "outputs": [
    {
     "name": "stdout",
     "output_type": "stream",
     "text": [
      "5.5\n"
     ]
    }
   ],
   "source": [
    "# Example 2 --- abs()\n",
    "# If we apply abs() on any variable, it gives the absolute value or modulus of that variable.\n",
    "x=-10.5+5\n",
    "print(abs(x))"
   ]
  },
  {
   "cell_type": "code",
   "execution_count": 23,
   "metadata": {},
   "outputs": [
    {
     "name": "stdout",
     "output_type": "stream",
     "text": [
      "0b10100\n"
     ]
    }
   ],
   "source": [
    "# Example 3 --- bin()\n",
    "# bin() is used to convert decimal values to binary values\n",
    "var1=20\n",
    "print(bin(var1))"
   ]
  },
  {
   "cell_type": "code",
   "execution_count": 24,
   "metadata": {},
   "outputs": [
    {
     "name": "stdout",
     "output_type": "stream",
     "text": [
      "A\n",
      "97\n"
     ]
    }
   ],
   "source": [
    "# Example 4 --- ord()  vs chr()\n",
    "# ord() is used to convert character to ASCII value and chr() does the opposite\n",
    "x=65\n",
    "print(chr(x))\n",
    "y='a'\n",
    "print(ord(y))"
   ]
  },
  {
   "cell_type": "code",
   "execution_count": 25,
   "metadata": {},
   "outputs": [
    {
     "name": "stdout",
     "output_type": "stream",
     "text": [
      "28\n"
     ]
    }
   ],
   "source": [
    "# Exaple 5 --- sum()\n",
    "# It sums up all the items in an iterable. But all the values have to be of same data type\n",
    "list2=[1,2,3,4,5,6,7]\n",
    "print(sum(list2))"
   ]
  },
  {
   "cell_type": "code",
   "execution_count": 1,
   "metadata": {},
   "outputs": [
    {
     "name": "stdout",
     "output_type": "stream",
     "text": [
      "<list_reverseiterator object at 0x000001BEC0BDD2C8>\n",
      "4\n",
      "10\n",
      "3\n",
      "1\n",
      "5\n",
      "[5, 1, 3, 10, 4]\n",
      "<reversed object at 0x000001BEC0BDD2C8>\n",
      "44\n",
      "100\n",
      "33\n",
      "11\n",
      "55\n",
      "(55, 11, 33, 100, 44)\n"
     ]
    }
   ],
   "source": [
    "# Example 6 --- reversed()\n",
    "## reversed() will reverse a sequence like list, tuple, but the original sequence remains unchanged\n",
    "\n",
    "list1=[5,1,3,10,4]\n",
    "print(reversed(list1))\n",
    "for i in reversed(list1):\n",
    "    print(i)\n",
    "print(list1)\n",
    "tuple1=(55,11,33,100,44)\n",
    "print(reversed(tuple1))\n",
    "for i in reversed(tuple1):\n",
    "    print(i)\n",
    "print(tuple1)"
   ]
  },
  {
   "cell_type": "code",
   "execution_count": 27,
   "metadata": {},
   "outputs": [
    {
     "name": "stdout",
     "output_type": "stream",
     "text": [
      "False\n",
      "False\n",
      "True\n"
     ]
    }
   ],
   "source": [
    "# Example 7 --- all()\n",
    "# If all the elements of a sequence are true, then it returns true.\n",
    "#  Q> What is True In Python?\n",
    "# Ans:- Any non-zero, non-empty value in python is true. e.g. None is not true. \n",
    "\n",
    "list1=[True,10,0]\n",
    "print(all(list1))  # It will return false because 0 is not True\n",
    "list2=[True,10,1,0.5,None]\n",
    "print(all(list2))   # It will also return false as None is not True\n",
    "list3=[True,10,1,0.5,'None']\n",
    "print(all(list3))  # It will return True because all elements are True. Please note here 'None' is a String"
   ]
  },
  {
   "cell_type": "code",
   "execution_count": 28,
   "metadata": {},
   "outputs": [
    {
     "name": "stdout",
     "output_type": "stream",
     "text": [
      "True\n",
      "False\n"
     ]
    }
   ],
   "source": [
    "# Example 8 --- any()\n",
    "# If any of the element of a sequence is True, it will return True\n",
    "list4=[10,0,None,False]  # Here, one element is True\n",
    "print(any(list4))\n",
    "list5=[0,0,None,False]\n",
    "print(any(list5))   # Here, all the elements are False"
   ]
  },
  {
   "cell_type": "code",
   "execution_count": 29,
   "metadata": {},
   "outputs": [
    {
     "name": "stdout",
     "output_type": "stream",
     "text": [
      "__name__\n",
      "__doc__\n",
      "__package__\n",
      "__loader__\n",
      "__spec__\n",
      "__builtin__\n",
      "__builtins__\n",
      "_ih\n",
      "_oh\n",
      "_dh\n",
      "In\n",
      "Out\n",
      "get_ipython\n",
      "exit\n",
      "quit\n",
      "_\n",
      "__\n",
      "___\n",
      "_i\n",
      "_ii\n",
      "_iii\n",
      "_i1\n",
      "list1\n",
      "tuple1\n",
      "_i2\n",
      "x\n",
      "_i3\n",
      "var1\n",
      "_i4\n",
      "y\n",
      "_i5\n",
      "list2\n",
      "_i6\n",
      "i\n",
      "_i7\n",
      "list3\n",
      "_i8\n",
      "list4\n",
      "list5\n",
      "_i9\n",
      "_i10\n",
      "animals\n",
      "enumerateAnimals\n",
      "_i11\n",
      "_i12\n",
      "_i13\n",
      "_i14\n",
      "_i15\n",
      "_i16\n",
      "_i17\n",
      "_i18\n",
      "_i19\n",
      "_i20\n",
      "_i21\n",
      "_i22\n",
      "_i23\n",
      "_i24\n",
      "_i25\n",
      "_i26\n",
      "_i27\n",
      "_i28\n",
      "_i29\n"
     ]
    }
   ],
   "source": [
    "# Example 9 ---- globals()\n",
    "# It gives a dictionary which contains all global variables at that point of time\n",
    "for i in globals():\n",
    "    print(i)"
   ]
  },
  {
   "cell_type": "code",
   "execution_count": 30,
   "metadata": {},
   "outputs": [
    {
     "name": "stdout",
     "output_type": "stream",
     "text": [
      "<class 'enumerate'>\n",
      "[(0, 'tiger'), (1, 'lion'), (2, 'deer')]\n",
      "[(10, 'tiger'), (11, 'lion'), (12, 'deer')]\n"
     ]
    }
   ],
   "source": [
    "# Example 10 ---- enumerate()\n",
    "# Return an enumerate object. The Iterable must be a sequence, an iterator, or some other object which supports iteration\n",
    "# Enumerate returns the list of tuples. Tuples consists index values and items from the list\n",
    "\n",
    "animals = ['tiger', 'lion', 'deer']\n",
    "enumerateAnimals = enumerate(animals)\n",
    "print(type(enumerateAnimals))\n",
    "# converting to list\n",
    "print(list(enumerateAnimals))\n",
    "# changing the default counter\n",
    "enumerateAnimals = enumerate(animals, 10)\n",
    "print(list(enumerateAnimals))\n"
   ]
  }
 ],
 "metadata": {
  "kernelspec": {
   "display_name": "Python 3",
   "language": "python",
   "name": "python3"
  },
  "language_info": {
   "codemirror_mode": {
    "name": "ipython",
    "version": 3
   },
   "file_extension": ".py",
   "mimetype": "text/x-python",
   "name": "python",
   "nbconvert_exporter": "python",
   "pygments_lexer": "ipython3",
   "version": "3.7.6"
  }
 },
 "nbformat": 4,
 "nbformat_minor": 2
}
