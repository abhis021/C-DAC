{
 "cells": [
  {
   "cell_type": "code",
   "execution_count": 1,
   "id": "0976cf17",
   "metadata": {},
   "outputs": [
    {
     "name": "stdout",
     "output_type": "stream",
     "text": [
      "Day: 21\n",
      "Month: June\n",
      "Year: 2020\n",
      "The date input is 21 June 2020\n"
     ]
    }
   ],
   "source": [
    "class tarikh:\n",
    "    def __init__(cls,day,month,year):\n",
    "        cls.day = day\n",
    "        cls.month = month\n",
    "        cls.year = year\n",
    "#         return cls(cls.year,cls.month,cls.day)\n",
    "\n",
    "object2= tarikh(input(\"Day: \"), input(\"Month: \"), input(\"Year: \"))\n",
    "\n",
    "print(\"The date input is {0} {1} {2}\".format(object2.day,object2.month,object2.year))"
   ]
  },
  {
   "cell_type": "code",
   "execution_count": 4,
   "id": "5b9a0a5e",
   "metadata": {},
   "outputs": [
    {
     "name": "stdout",
     "output_type": "stream",
     "text": [
      "It is the Parent class constructor\n",
      "It is the child class constructor\n",
      "It is the Parent method\n",
      "It is the Parent method\n",
      "It is the Parent method\n"
     ]
    }
   ],
   "source": [
    "class Parent:\n",
    "    def __init__(self):\n",
    "        print(\"It is the Parent class constructor\")\n",
    "    def method1(self):\n",
    "        print(\"It is the Parent method\")\n",
    "class Parent1:\n",
    "    def __init__(self):\n",
    "        print(\"It is the Parent class constructor\")\n",
    "    def method2(self):\n",
    "        print(\"It is the Parent method\")\n",
    "class Child(Parent, Parent1):\n",
    "    def __init__(self):\n",
    "        print(\"It is the child class constructor\")\n",
    "    def method3(self):\n",
    "        print(\"It is the child method\")\n",
    "pobj =Parent()\n",
    "cobj=Child()\n",
    "\n",
    "pobj.method1()\n",
    "cobj.method1()\n",
    "cobj.method2()"
   ]
  },
  {
   "cell_type": "code",
   "execution_count": 13,
   "id": "16a6750e",
   "metadata": {},
   "outputs": [
    {
     "name": "stdout",
     "output_type": "stream",
     "text": [
      "It is the child class constructor\n",
      "It is the GrandParent method\n",
      "It is the Parent method\n",
      "It is the Parent1 method\n"
     ]
    }
   ],
   "source": [
    "class GrandParent:\n",
    "    def __init__(self):\n",
    "        print(\"It is the GrandParent class constructor\")\n",
    "    def method(self):\n",
    "        print(\"It is the GrandParent method\")\n",
    "class Parent:\n",
    "    def __init__(self):\n",
    "        print(\"It is the Parent class constructor\")\n",
    "    def method1(self):\n",
    "        print(\"It is the Parent method\")\n",
    "class Parent1:\n",
    "    def __init__(self):\n",
    "        print(\"It is the Parent1 class constructor\")\n",
    "    def method2(self):\n",
    "        print(\"It is the Parent1 method\")\n",
    "class Child(GrandParent, Parent, Parent1):\n",
    "    def __init__(self):\n",
    "        print(\"It is the child class constructor\")\n",
    "    def method3(self):\n",
    "        print(\"It is the child method\")\n",
    "# pobj =Parent()\n",
    "cobj=Child()\n",
    "\n",
    "# pobj.method()\n",
    "cobj.method()\n",
    "cobj.method1()\n",
    "cobj.method2()"
   ]
  },
  {
   "cell_type": "code",
   "execution_count": 10,
   "id": "d90835d6-39ab-4ad1-bb3c-0a7792d20c8a",
   "metadata": {},
   "outputs": [
    {
     "name": "stdout",
     "output_type": "stream",
     "text": [
      "(<class '__main__.Child'>, <class '__main__.GrandParent'>, <class '__main__.Parent'>, <class '__main__.Parent1'>, <class 'object'>)\n",
      "<class '__main__.Child'>\n",
      "<class '__main__.GrandParent'>\n",
      "<class '__main__.Parent'>\n",
      "<class '__main__.Parent1'>\n",
      "<class 'object'>\n"
     ]
    }
   ],
   "source": [
    "print(Child.__mro__)\n",
    "for i in Child.__mro__:\n",
    "    print(i)"
   ]
  },
  {
   "cell_type": "code",
   "execution_count": 16,
   "id": "f5566c47-f29e-4530-8a14-92af17335bb6",
   "metadata": {},
   "outputs": [
    {
     "name": "stdout",
     "output_type": "stream",
     "text": [
      "This is child class consructor\n",
      "this is parent class constructor\n",
      "Abstract method is implemented in child class\n"
     ]
    }
   ],
   "source": [
    "class AbstractParent:\n",
    "    def __init__(self):\n",
    "        print('this is parent class constructor')\n",
    "    def abstractMethod(self):\n",
    "        pass\n",
    "class Child(AbstractParent):\n",
    "    def __init__(self):\n",
    "        print('This is child class consructor')\n",
    "        super().__init__()\n",
    "    def abstractMethod(self):\n",
    "        print('Abstract method is implemented in child class')\n",
    "kid = Child()\n",
    "kid.abstractMethod()"
   ]
  },
  {
   "cell_type": "code",
   "execution_count": 17,
   "id": "97c8b46c-a779-4331-a6c6-219ca0e13f08",
   "metadata": {},
   "outputs": [
    {
     "name": "stdout",
     "output_type": "stream",
     "text": [
      "hello python\n",
      "hello python\n"
     ]
    }
   ],
   "source": [
    "class Student:\n",
    "    def __init__(self, studentId, marks):\n",
    "        self.studentId = studentId\n",
    "        self.marks = marks\n",
    "    def method(self):\n",
    "        print('welcome to cdac')\n",
    "    def method(self):\n",
    "        print('aye halo')\n",
    "    def method(self):\n",
    "        print('hello python')\n",
    "sabji = Student(100,80)\n",
    "sabji.method()\n",
    "sabji.method()\n",
    "        "
   ]
  },
  {
   "cell_type": "code",
   "execution_count": 20,
   "id": "3e0cf83d-2fa0-4a9e-b849-cdad4fadf57d",
   "metadata": {},
   "outputs": [
    {
     "name": "stdout",
     "output_type": "stream",
     "text": [
      "Python\n",
      "Computer science\n"
     ]
    }
   ],
   "source": [
    "class colg:\n",
    "    def __init__(self, branch):\n",
    "        self.branch = branch\n",
    "    def setbranchname(self, branch):\n",
    "        self.branch = branch\n",
    "    def getbranchname(self):\n",
    "        return(self.branch)\n",
    "cob = colg(\"Python\")\n",
    "print(cob.getbranchname())\n",
    "cob.setbranchname(\"Computer science\")\n",
    "print(cob.getbranchname())"
   ]
  },
  {
   "cell_type": "code",
   "execution_count": 31,
   "id": "a41c277b-df1a-4b3d-b1cf-feff8173f6f9",
   "metadata": {},
   "outputs": [
    {
     "name": "stdout",
     "output_type": "stream",
     "text": [
      "400\n",
      "200\n"
     ]
    }
   ],
   "source": [
    "class Rectangle:\n",
    "    def __init__(self, l, b):\n",
    "        self.length = l\n",
    "        self.breadth = b\n",
    "    def getArea(self,):\n",
    "        recArea = self.length*self.breadth\n",
    "        print(recArea)\n",
    "class Square(Rectangle):\n",
    "    def __init__(self, side):\n",
    "        self.side=side\n",
    "    def getArea(self,):\n",
    "        sqArea=self.side**2\n",
    "        print(sqArea)\n",
    "        \n",
    "\n",
    "sq = Square(20)\n",
    "rc = Rectangle(10,20)\n",
    "\n",
    "sq.getArea()\n",
    "rc.getArea()"
   ]
  },
  {
   "cell_type": "code",
   "execution_count": 1,
   "id": "e284e8e5-6593-41d3-b588-62cff16d8b9a",
   "metadata": {},
   "outputs": [
    {
     "name": "stdout",
     "output_type": "stream",
     "text": [
      "python is here\n"
     ]
    }
   ],
   "source": [
    "import re\n",
    "if re.search(\"python\", \"python is awesome\"):\n",
    "    print('python is here')"
   ]
  },
  {
   "cell_type": "code",
   "execution_count": 3,
   "id": "18bcb388-5152-42cb-a47d-7881e8394699",
   "metadata": {},
   "outputs": [
    {
     "name": "stdout",
     "output_type": "stream",
     "text": [
      "['python', 'python']\n",
      "python\n",
      "python\n"
     ]
    }
   ],
   "source": [
    "import re\n",
    "allpython = re.findall(\"python\", \"python is awesome and python is dynamically typed language\")\n",
    "print(allpython)\n",
    "for i in allpython:\n",
    "    print(i)"
   ]
  },
  {
   "cell_type": "code",
   "execution_count": 4,
   "id": "a9261d93-9842-48cb-9efe-2f7e147cdb7d",
   "metadata": {},
   "outputs": [
    {
     "name": "stdout",
     "output_type": "stream",
     "text": [
      "(11, 17)\n",
      "(38, 44)\n"
     ]
    }
   ],
   "source": [
    "import re\n",
    "Str = \"we need to inform him with the latest information\"\n",
    "\n",
    "for i in re.finditer(\"inform\", Str):\n",
    "    locTuple = i.span()\n",
    "    print(locTuple)"
   ]
  },
  {
   "cell_type": "code",
   "execution_count": 6,
   "id": "854c47d1-b9c3-437e-9c44-dbf945dee923",
   "metadata": {},
   "outputs": [
    {
     "name": "stdout",
     "output_type": "stream",
     "text": [
      "sat\n",
      "mat\n",
      "hat\n",
      "pat\n"
     ]
    }
   ],
   "source": [
    "import re\n",
    "\n",
    "Str = \"sat, mat, hat, pat\"\n",
    "\n",
    "allStr = re.findall(\"[shmp]at\", Str)\n",
    "\n",
    "for i in allStr:\n",
    "    print(i)"
   ]
  },
  {
   "cell_type": "code",
   "execution_count": 52,
   "id": "f366e986-2424-439d-88ce-c2ac54e36f9c",
   "metadata": {},
   "outputs": [
    {
     "name": "stdin",
     "output_type": "stream",
     "text": [
      "For range input A-Z or a-z and 0-9 and for specifics enter specific letter or number separated by comma list\n"
     ]
    },
    {
     "name": "stdout",
     "output_type": "stream",
     "text": [
      "<class 'str'>\n"
     ]
    }
   ],
   "source": [
    "usergives =input(\"For range input A-Z or a-z and 0-9 and for specifics enter specific letter or number separated by comma\")\n",
    "\n",
    "print(type(usergives))"
   ]
  },
  {
   "cell_type": "code",
   "execution_count": 56,
   "id": "04903059-8230-4265-941b-1010cf3bbab0",
   "metadata": {},
   "outputs": [
    {
     "name": "stdin",
     "output_type": "stream",
     "text": [
      "For range input A-Z or a-z and 0-9 and for specifics enter specific letter or number separated by comma h\n"
     ]
    },
    {
     "name": "stdout",
     "output_type": "stream",
     "text": [
      "[]\n"
     ]
    }
   ],
   "source": [
    "import re\n",
    "result = []\n",
    "Str = [\"R2D2\",\"ENOCH\",\"COULSON\",\"TURBO\",\"ALYA\",\"CHITTI\",\"ZEPHYR\"]\n",
    "# Str1 = \"ENOCH\"\n",
    "usergives =input(\"For range input A-Z or a-z and 0-9 and for specifics enter specific letter or number separated by comma\")\n",
    "for i in Str:\n",
    "#     print(i)\n",
    "    someStr = re.findall(\"[usergives]\", i)\n",
    "    if someStr!=[]:\n",
    "        result.append(i)\n",
    "print(result)"
   ]
  },
  {
   "cell_type": "code",
   "execution_count": 57,
   "id": "8a6555d0-fcd9-492b-8626-72fce834f269",
   "metadata": {},
   "outputs": [
    {
     "name": "stdout",
     "output_type": "stream",
     "text": [
      "hat food mat pat\n"
     ]
    }
   ],
   "source": [
    "import re\n",
    "Food = \"hat rat mat pat\"\n",
    "\n",
    "regex = re.compile(\"[r]at\")\n",
    "Food = regex.sub(\"food\", Food)\n",
    "\n",
    "print(Food)"
   ]
  },
  {
   "cell_type": "code",
   "execution_count": 60,
   "id": "58ae3392-c92a-4437-9645-332461560ab9",
   "metadata": {},
   "outputs": [
    {
     "name": "stdout",
     "output_type": "stream",
     "text": [
      "*+*+d4+e5\n",
      "* * AxxB *\n",
      "*C *C AC\n",
      "ABB ABB * * *BBBBB\n",
      "*defgabc\n",
      "abcdefg*\n",
      "*C\n",
      "*+**=**\n",
      "3*14*17\n"
     ]
    }
   ],
   "source": [
    "import re\n",
    "print(re.sub(r'[abc][123]','*', 'a1+b2+d4+e5'))\n",
    "print(re.sub(r'A.B', '*', 'A2B AxB AxxB A$B'))\n",
    "print(re.sub(r'AB+', '*', 'ABC ABBBBBC AC'))\n",
    "print(re.sub(r'AB{3,6}', '*', 'ABB ABB ABBBBB ABBBB ABBBBBBBBBBB'))\n",
    "print(re.sub('^abc', '*','abcdefgabc'))\n",
    "print(re.sub('abc$', '*', 'abcdefgabc'))\n",
    "print(re.sub(r'AB\\+', '*', 'AB+C'))\n",
    "print(re.sub(r'\\d', '*', '3+14=17'))\n",
    "print(re.sub(r'\\D', '*', '3+14=17'))"
   ]
  },
  {
   "cell_type": "code",
   "execution_count": 61,
   "id": "6387a40c-9daf-4c9c-b447-b6a731fe3ce1",
   "metadata": {},
   "outputs": [
    {
     "name": "stdout",
     "output_type": "stream",
     "text": [
      "Valid Phone number\n"
     ]
    }
   ],
   "source": [
    "import re\n",
    "\n",
    "phn = \"412-555-2321\"\n",
    "\n",
    "if re.search('[0-9]{3}-[0-9]{3}-[0-9]{4}', phn):\n",
    "    print(\"Valid Phone number\")"
   ]
  },
  {
   "cell_type": "code",
   "execution_count": 1,
   "id": "08b41d9c-53bd-437e-adcf-db7de9d9a9e5",
   "metadata": {},
   "outputs": [
    {
     "name": "stdout",
     "output_type": "stream",
     "text": [
      "['csev@umich.edu', 'cwen@iupio.edu']\n"
     ]
    }
   ],
   "source": [
    "import re\n",
    "\n",
    "s = 'A message from csev@umich.edu to cwen@iupio.edu about meeting @2PM'\n",
    "\n",
    "lst = re.findall('\\S+@\\S+', s)\n",
    "print(lst)"
   ]
  },
  {
   "cell_type": "code",
   "execution_count": null,
   "id": "c7ffa855",
   "metadata": {},
   "outputs": [],
   "source": []
  }
 ],
 "metadata": {
  "kernelspec": {
   "display_name": "Python 3",
   "language": "python",
   "name": "python3"
  },
  "language_info": {
   "codemirror_mode": {
    "name": "ipython",
    "version": 3
   },
   "file_extension": ".py",
   "mimetype": "text/x-python",
   "name": "python",
   "nbconvert_exporter": "python",
   "pygments_lexer": "ipython3",
   "version": "3.9.7"
  }
 },
 "nbformat": 4,
 "nbformat_minor": 5
}
