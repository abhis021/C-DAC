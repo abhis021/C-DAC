{
 "cells": [
  {
   "cell_type": "markdown",
   "metadata": {},
   "source": [
    "## Lambda Function"
   ]
  },
  {
   "cell_type": "code",
   "execution_count": 3,
   "metadata": {},
   "outputs": [
    {
     "name": "stdout",
     "output_type": "stream",
     "text": [
      "3\n",
      "3\n"
     ]
    }
   ],
   "source": [
    "# Example 1  (Method 1)\n",
    "x=(lambda a,b:a+b)(1,2)\n",
    "print(x)\n"
   ]
  },
  {
   "cell_type": "code",
   "execution_count": 4,
   "metadata": {},
   "outputs": [
    {
     "name": "stdout",
     "output_type": "stream",
     "text": [
      "3\n"
     ]
    }
   ],
   "source": [
    "# Example 2  (Method 2)\n",
    "# We can integrate the two lines into one staetement as well\n",
    "print((lambda a,b:a+b)(1,2))"
   ]
  },
  {
   "cell_type": "code",
   "execution_count": 5,
   "metadata": {},
   "outputs": [
    {
     "data": {
      "text/plain": [
       "3"
      ]
     },
     "execution_count": 5,
     "metadata": {},
     "output_type": "execute_result"
    }
   ],
   "source": [
    "# Example 3 (Method 3)\n",
    "x=lambda a,b:a+b\n",
    "x(1,2)"
   ]
  },
  {
   "cell_type": "code",
   "execution_count": 8,
   "metadata": {},
   "outputs": [
    {
     "name": "stdout",
     "output_type": "stream",
     "text": [
      "<map object at 0x0000011BC63C3888>\n",
      "[1, 4, 9, 16]\n"
     ]
    }
   ],
   "source": [
    "# Example 4 (map)\n",
    "a=[1,2,3,4]\n",
    "x=map(lambda elem:elem**2,a)\n",
    "print(x)   # it prints the map object\n",
    "print(list(x))  # it prints the list"
   ]
  },
  {
   "cell_type": "code",
   "execution_count": 11,
   "metadata": {},
   "outputs": [
    {
     "name": "stdout",
     "output_type": "stream",
     "text": [
      "<filter object at 0x0000011BC6331088>\n",
      "[3, 4]\n"
     ]
    }
   ],
   "source": [
    "# Example 5(Filter)\n",
    "a=[1,2,3,4]\n",
    "y=filter(lambda elem:elem>2,a)\n",
    "print(y)\n",
    "print(list(y))"
   ]
  },
  {
   "cell_type": "code",
   "execution_count": 12,
   "metadata": {},
   "outputs": [
    {
     "name": "stdout",
     "output_type": "stream",
     "text": [
      "<filter object at 0x0000011BC634EC88>\n",
      "[1, 3, 5, 7, 9]\n"
     ]
    }
   ],
   "source": [
    "# Example 6 (Filter)\n",
    "b=range(-10,10)\n",
    "z=filter(lambda elem:elem>0 and elem%2!=0,b)\n",
    "print(z)\n",
    "print(list(z))"
   ]
  },
  {
   "cell_type": "code",
   "execution_count": 14,
   "metadata": {},
   "outputs": [
    {
     "name": "stdout",
     "output_type": "stream",
     "text": [
      "24\n",
      "<class 'int'>\n"
     ]
    }
   ],
   "source": [
    "# Example 7 (Reduce)\n",
    "\n",
    "from functools import reduce\n",
    "product = reduce((lambda x, y: x * y), [1, 2, 3, 4])\n",
    "print(product)\n",
    "print(type(product))"
   ]
  },
  {
   "cell_type": "code",
   "execution_count": 23,
   "metadata": {},
   "outputs": [
    {
     "name": "stdout",
     "output_type": "stream",
     "text": [
      "145\n"
     ]
    }
   ],
   "source": [
    "# Example 8 (Reduce)\n",
    "c=range(10,20)\n",
    "result=reduce((lambda x,y:x+y),c)\n",
    "print(result)"
   ]
  },
  {
   "cell_type": "code",
   "execution_count": 24,
   "metadata": {},
   "outputs": [
    {
     "name": "stdout",
     "output_type": "stream",
     "text": [
      "945\n"
     ]
    }
   ],
   "source": [
    "# Example 9 (Using Map and Reduce)\n",
    "c=range(10,20)\n",
    "z=filter(lambda elem:elem>0 and elem%2!=0,b)\n",
    "product = reduce((lambda x, y: x * y), z)\n",
    "print(product)"
   ]
  },
  {
   "cell_type": "markdown",
   "metadata": {},
   "source": [
    "## Map in Lambda can be used for normal functions as well"
   ]
  },
  {
   "cell_type": "code",
   "execution_count": 29,
   "metadata": {},
   "outputs": [
    {
     "data": {
      "text/plain": [
       "[2, 36, 150, 392, 810]"
      ]
     },
     "execution_count": 29,
     "metadata": {},
     "output_type": "execute_result"
    }
   ],
   "source": [
    "#Example 10\n",
    "def func(a):\n",
    "    return a**2+a**3\n",
    "c=range(10,20)\n",
    "z=filter(lambda elem:elem>0 and elem%2!=0,b)\n",
    "list(map(func,z))"
   ]
  }
 ],
 "metadata": {
  "kernelspec": {
   "display_name": "Python 3",
   "language": "python",
   "name": "python3"
  },
  "language_info": {
   "codemirror_mode": {
    "name": "ipython",
    "version": 3
   },
   "file_extension": ".py",
   "mimetype": "text/x-python",
   "name": "python",
   "nbconvert_exporter": "python",
   "pygments_lexer": "ipython3",
   "version": "3.7.6"
  }
 },
 "nbformat": 4,
 "nbformat_minor": 2
}
