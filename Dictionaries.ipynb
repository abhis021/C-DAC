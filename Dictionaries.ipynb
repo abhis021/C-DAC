{
 "cells": [
  {
   "cell_type": "markdown",
   "metadata": {},
   "source": [
    "### Given a word and create a dictionary for counting each letter"
   ]
  },
  {
   "cell_type": "code",
   "execution_count": 23,
   "metadata": {},
   "outputs": [
    {
     "data": {
      "text/plain": [
       "{'s': 3, 'f': 1, 'g': 2}"
      ]
     },
     "execution_count": 23,
     "metadata": {},
     "output_type": "execute_result"
    }
   ],
   "source": [
    "word=\"sfsggs\"\n",
    "d={}\n",
    "for ch in word:\n",
    "    if ch in d:\n",
    "        d[ch]+=1\n",
    "    else:\n",
    "        d[ch]=1\n",
    "d\n",
    "    \n"
   ]
  },
  {
   "cell_type": "markdown",
   "metadata": {},
   "source": [
    "## Counting the letters of a word by using get function"
   ]
  },
  {
   "cell_type": "code",
   "execution_count": 24,
   "metadata": {},
   "outputs": [
    {
     "data": {
      "text/plain": [
       "{'s': 3, 'f': 1, 'g': 2}"
      ]
     },
     "execution_count": 24,
     "metadata": {},
     "output_type": "execute_result"
    }
   ],
   "source": [
    "word=\"sfsggs\"\n",
    "d={}\n",
    "for ch in word:\n",
    "    d[ch]=d.get(ch,0)+1\n",
    "    \n",
    "d"
   ]
  },
  {
   "cell_type": "markdown",
   "metadata": {},
   "source": [
    "### From a file read words and give count"
   ]
  },
  {
   "cell_type": "code",
   "execution_count": 25,
   "metadata": {},
   "outputs": [
    {
     "name": "stdout",
     "output_type": "stream",
     "text": [
      "{'Hello': 1, 'this': 2, 'is': 2, 'but': 1, 'a': 1, 'statemenT': 1, '----------------I': 1, 'am': 1, 'there': 1, 'to': 1, 'power': 1, 'the': 1, 'system': 1}\n"
     ]
    }
   ],
   "source": [
    "fhand=open('romeo.txt')\n",
    "d=dict()\n",
    "for line in fhand:\n",
    "    words=line.split()\n",
    "    #print(words)\n",
    "    for word in words:\n",
    "        if word in d:\n",
    "            d[word]+=1\n",
    "        else:\n",
    "            d[word]=1\n",
    "print(d)"
   ]
  },
  {
   "cell_type": "markdown",
   "metadata": {},
   "source": [
    "### Loop and Dictionary"
   ]
  },
  {
   "cell_type": "code",
   "execution_count": 26,
   "metadata": {},
   "outputs": [
    {
     "name": "stdout",
     "output_type": "stream",
     "text": [
      "s 3\n",
      "f 1\n",
      "g 2\n"
     ]
    }
   ],
   "source": [
    "d={'s': 3, 'f': 1, 'g': 2}\n",
    "for key in d:\n",
    "    print(key,d[key])"
   ]
  },
  {
   "cell_type": "markdown",
   "metadata": {},
   "source": [
    "### find all the entries in a dictionary with a value above ten"
   ]
  },
  {
   "cell_type": "code",
   "execution_count": 27,
   "metadata": {},
   "outputs": [
    {
     "name": "stdout",
     "output_type": "stream",
     "text": [
      "s 11\n",
      "r 12\n",
      "{'s': 11, 'e': 2, 'r': 12}\n"
     ]
    }
   ],
   "source": [
    "d={'s':11,'e':2,'r':12}\n",
    "for key in d:\n",
    "    if d[key]>=10:\n",
    "        print(key,d[key])\n",
    "print(d)"
   ]
  },
  {
   "cell_type": "markdown",
   "metadata": {},
   "source": [
    "### print the keys in alphabetical order."
   ]
  },
  {
   "cell_type": "code",
   "execution_count": 28,
   "metadata": {},
   "outputs": [
    {
     "name": "stdout",
     "output_type": "stream",
     "text": [
      "one 12\n",
      "three 11\n"
     ]
    }
   ],
   "source": [
    "dic={'one':12,'two':2,'three':11,'four':1}\n",
    "lst=list(dic.keys())\n",
    "lst.sort()\n",
    "for key in lst:\n",
    "    if dic[key]>10:\n",
    "        print(key,dic[key])\n",
    "    "
   ]
  },
  {
   "cell_type": "code",
   "execution_count": null,
   "metadata": {},
   "outputs": [],
   "source": []
  },
  {
   "cell_type": "code",
   "execution_count": 29,
   "metadata": {},
   "outputs": [
    {
     "name": "stdout",
     "output_type": "stream",
     "text": [
      "<_io.TextIOWrapper name='romeo.txt' mode='r' encoding='cp65001'>\n",
      "{'Hello': 1, 'this': 2, 'is': 2, 'but': 1, 'a': 1, 'statemenT': 1, '----------------I': 1, 'am': 1, 'there': 1, 'to': 1, 'power': 1, 'the': 1, 'system': 1}\n",
      "2\n"
     ]
    }
   ],
   "source": [
    "fhand=open('romeo.txt')\n",
    "d=dict()\n",
    "max=0\n",
    "print(fhand)\n",
    "for line in fhand:\n",
    "    word=line.split()\n",
    "    for w in word:\n",
    "        if w not in d:\n",
    "            d[w]=1\n",
    "        else:\n",
    "            d[w]+=1\n",
    "print(d)\n",
    "            \n",
    "for i in d:\n",
    "    if d[i]>max:\n",
    "        max=d[i]\n",
    "\n",
    "            \n",
    "               \n",
    "print(max)"
   ]
  },
  {
   "cell_type": "code",
   "execution_count": 30,
   "metadata": {},
   "outputs": [
    {
     "name": "stdout",
     "output_type": "stream",
     "text": [
      "  Hello    this    is but    this      is      a     statemenT\n",
      "\n",
      "----------------I am there to power the system\n",
      "Line Count: 2\n"
     ]
    }
   ],
   "source": [
    "fhand = open('romeo.txt')\n",
    "count = 0\n",
    "for line in fhand:\n",
    "    count = count +1\n",
    "    print(line)\n",
    "print('Line Count:' , count)"
   ]
  },
  {
   "cell_type": "code",
   "execution_count": 31,
   "metadata": {},
   "outputs": [
    {
     "name": "stdout",
     "output_type": "stream",
     "text": [
      "  Hello    this    is but    this      is      a     statemenT\n",
      "\n",
      "----------------I am there to power the system\n",
      "Line Count: 2\n",
      "Word Count: 15\n"
     ]
    }
   ],
   "source": [
    "fhand = open('romeo.txt')\n",
    "count = 0\n",
    "counter = 0\n",
    "for line in fhand:\n",
    "    count = count +1\n",
    "    print(line)\n",
    "    for word in line.split():\n",
    "        counter = counter+1\n",
    "print('Line Count:' , count)\n",
    "print('Word Count:', counter)\n",
    "\n",
    "\n",
    "#without counting lines, counting words is not possible using"
   ]
  },
  {
   "cell_type": "code",
   "execution_count": 32,
   "metadata": {},
   "outputs": [
    {
     "name": "stdout",
     "output_type": "stream",
     "text": [
      "109\n"
     ]
    }
   ],
   "source": [
    "fhand =open('romeo.txt')\n",
    "inp = fhand.read()\n",
    "print(len(inp))"
   ]
  },
  {
   "cell_type": "code",
   "execution_count": 51,
   "metadata": {},
   "outputs": [
    {
     "name": "stdout",
     "output_type": "stream",
     "text": [
      "Hello    this    is but    \n",
      "\n"
     ]
    }
   ],
   "source": [
    "fhand = open('romeo.txt')\n",
    "for line in fhand:\n",
    "    line = line\n",
    "\n",
    "    if line.startswith('Hello'):\n",
    "        print(line)\n"
   ]
  },
  {
   "cell_type": "code",
   "execution_count": 100,
   "metadata": {},
   "outputs": [
    {
     "name": "stdout",
     "output_type": "stream",
     "text": [
      "<_io.TextIOWrapper name='output.txt' mode='a' encoding='cp65001'>\n"
     ]
    },
    {
     "data": {
      "text/plain": [
       "43"
      ]
     },
     "execution_count": 100,
     "metadata": {},
     "output_type": "execute_result"
    }
   ],
   "source": [
    "fout = open('output.txt', 'a')\n",
    "print(fout)\n",
    "line1 = \"\\nThis is the here s it eh wowwwwoowwwoowwww\"\n",
    "fout.write(line1)\n"
   ]
  }
 ],
 "metadata": {
  "interpreter": {
   "hash": "f4f3d28c575ee850fa54769644d7d2786ac09de3f20e6be48446e235b65d556f"
  },
  "kernelspec": {
   "display_name": "Python 3.9.7 64-bit",
   "name": "python3"
  },
  "language_info": {
   "codemirror_mode": {
    "name": "ipython",
    "version": 3
   },
   "file_extension": ".py",
   "mimetype": "text/x-python",
   "name": "python",
   "nbconvert_exporter": "python",
   "pygments_lexer": "ipython3",
   "version": "3.9.7"
  }
 },
 "nbformat": 4,
 "nbformat_minor": 4
}
