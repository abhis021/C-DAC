{
 "cells": [
  {
   "cell_type": "markdown",
   "id": "26e7e8d7-18ed-4ebe-8375-9a6a10777cbb",
   "metadata": {},
   "source": [
    "Assignment 1 Python Programming"
   ]
  },
  {
   "cell_type": "markdown",
   "id": "31c42494-32a0-479d-a199-a1fcba152742",
   "metadata": {},
   "source": [
    "Q1 Program to generate Fibonacci Series"
   ]
  },
  {
   "cell_type": "code",
   "execution_count": 1,
   "id": "347f88bc-f91b-4da8-bd34-2fdae09aa2d3",
   "metadata": {},
   "outputs": [
    {
     "name": "stdin",
     "output_type": "stream",
     "text": [
      "How many terms?  7\n"
     ]
    },
    {
     "name": "stdout",
     "output_type": "stream",
     "text": [
      "Fibonacci sequence:\n",
      "0\n",
      "1\n",
      "1\n",
      "2\n",
      "3\n",
      "5\n",
      "8\n"
     ]
    }
   ],
   "source": [
    "# Program to display the Fibonacci sequence\n",
    "\n",
    "nterms = int(input(\"How many terms? \"))\n",
    "\n",
    "# first two terms\n",
    "n1, n2 = 0, 1\n",
    "count = 0\n",
    "\n",
    "# check if the number of terms is valid\n",
    "if nterms <= 0:\n",
    "   print(\"Please enter a positive integer\")\n",
    "# if there is only one term, return n1\n",
    "elif nterms == 1:\n",
    "   print(\"Fibonacci sequence upto\",nterms,\":\")\n",
    "   print(n1)\n",
    "# generate fibonacci sequence\n",
    "else:\n",
    "   print(\"Fibonacci sequence:\")\n",
    "   while count < nterms:\n",
    "       print(n1)\n",
    "       nth = n1 + n2\n",
    "       # update values\n",
    "       n1 = n2\n",
    "       n2 = nth\n",
    "       count += 1"
   ]
  },
  {
   "cell_type": "markdown",
   "id": "0b657ec9-2c1b-493f-9ea8-815467c42b71",
   "metadata": {},
   "source": [
    "Q2 Program to find difference between a number and sum of squares"
   ]
  },
  {
   "cell_type": "code",
   "execution_count": null,
   "id": "a30d87fa-4b67-48bd-a0e1-1e11fad20849",
   "metadata": {},
   "outputs": [],
   "source": []
  },
  {
   "cell_type": "markdown",
   "id": "25e4e212-4734-4caf-ade8-6f25960d3590",
   "metadata": {},
   "source": [
    "Q3 Find the largest number out of the 3 numbers?\n"
   ]
  },
  {
   "cell_type": "code",
   "execution_count": 4,
   "id": "e28ab054-5bab-4469-af6f-eac381673f97",
   "metadata": {},
   "outputs": [
    {
     "name": "stdin",
     "output_type": "stream",
     "text": [
      "Enter first number 9\n",
      "Enter second number 8\n",
      "Enter third number 7\n"
     ]
    },
    {
     "name": "stdout",
     "output_type": "stream",
     "text": [
      "9 is largest.\n"
     ]
    }
   ],
   "source": [
    "#taking three separate numbers as input\n",
    "n=input(\"Enter first number\")\n",
    "n1=input(\"Enter second number\")\n",
    "n2=input(\"Enter third number\")\n",
    "#comparing with all three\n",
    "if n>n1 and n>n2:\n",
    "    print(n + \" is largest.\")\n",
    "elif n1>n and n1>n2:\n",
    "    print(n1 +\" is largest.\")\n",
    "elif n2>n and n2>n1:\n",
    "    print(n2 + \" is largest.\")"
   ]
  },
  {
   "cell_type": "markdown",
   "id": "3e989ee2-b763-4c3f-a46e-fa1004dd8fac",
   "metadata": {},
   "source": [
    "Q4.Swap the first and last element of list.(atleast two methods apply)"
   ]
  },
  {
   "cell_type": "code",
   "execution_count": 5,
   "id": "e51a59c8-7406-4321-8b41-38b34a2d0bc1",
   "metadata": {},
   "outputs": [
    {
     "name": "stdout",
     "output_type": "stream",
     "text": [
      "[24, 35, 9, 56, 12]\n"
     ]
    }
   ],
   "source": [
    "# Swap function\n",
    "def swapList(newList):\n",
    "\tsize = len(newList)\n",
    "\t\n",
    "\t# Swapping first and last element here.\n",
    "\ttemp = newList[0]\n",
    "\tnewList[0] = newList[size - 1]\n",
    "\tnewList[size - 1] = temp\n",
    "\t\n",
    "\treturn newList\n",
    "\t\n",
    "newList = [12, 35, 9, 56, 24]\n",
    "\n",
    "print(swapList(newList))\n"
   ]
  },
  {
   "cell_type": "code",
   "execution_count": null,
   "id": "36ad3022-be5a-4c5e-b393-db254a014b3a",
   "metadata": {},
   "outputs": [],
   "source": []
  }
 ],
 "metadata": {
  "kernelspec": {
   "display_name": "Python 3",
   "language": "python",
   "name": "python3"
  },
  "language_info": {
   "codemirror_mode": {
    "name": "ipython",
    "version": 3
   },
   "file_extension": ".py",
   "mimetype": "text/x-python",
   "name": "python",
   "nbconvert_exporter": "python",
   "pygments_lexer": "ipython3",
   "version": "3.9.7"
  }
 },
 "nbformat": 4,
 "nbformat_minor": 5
}
