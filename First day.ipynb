{
 "cells": [
  {
   "cell_type": "code",
   "execution_count": 17,
   "id": "ba35d1d4-ac3e-4baa-90fe-b18e5202cbe0",
   "metadata": {},
   "outputs": [
    {
     "name": "stdout",
     "output_type": "stream",
     "text": [
      "['1111', '1113', '1115', '1117', '1119', '1131', '1133', '1135', '1137', '1139', '1151', '1153', '1155', '1157', '1159', '1171', '1173', '1175', '1177', '1179', '1191', '1193', '1195', '1197', '1199', '1311', '1313', '1315', '1317', '1319', '1331', '1333', '1335', '1337', '1339', '1351', '1353', '1355', '1357', '1359', '1371', '1373', '1375', '1377', '1379', '1391', '1393', '1395', '1397', '1399', '1511', '1513', '1515', '1517', '1519', '1531', '1533', '1535', '1537', '1539', '1551', '1553', '1555', '1557', '1559', '1571', '1573', '1575', '1577', '1579', '1591', '1593', '1595', '1597', '1599', '1711', '1713', '1715', '1717', '1719', '1731', '1733', '1735', '1737', '1739', '1751', '1753', '1755', '1757', '1759', '1771', '1773', '1775', '1777', '1779', '1791', '1793', '1795', '1797', '1799', '1911', '1913', '1915', '1917', '1919', '1931', '1933', '1935', '1937', '1939', '1951', '1953', '1955', '1957', '1959', '1971', '1973', '1975', '1977', '1979', '1991', '1993', '1995', '1997', '1999']\n"
     ]
    }
   ],
   "source": [
    "items = []\n",
    "for i in range(1001, 3000):\n",
    "    s=str(i)\n",
    "    #print(s[0],s[1],s[2],s[3])\n",
    "    if (int(s[0])%2!=0) and (int(s[1])%2!=0) and (int(s[2])%2!=0) and (int(s[3])%2!=0 ):\n",
    "        items.append(s)\n",
    "print(items)\n",
    "    "
   ]
  },
  {
   "cell_type": "code",
   "execution_count": 21,
   "id": "ca5e880d-2f47-4b77-9e7a-9bc41e70525b",
   "metadata": {},
   "outputs": [
    {
     "data": {
      "text/plain": [
       "125"
      ]
     },
     "execution_count": 21,
     "metadata": {},
     "output_type": "execute_result"
    }
   ],
   "source": [
    "len(items)"
   ]
  },
  {
   "cell_type": "code",
   "execution_count": 1,
   "id": "7b34f166-1954-414c-aaea-65edf44396a5",
   "metadata": {},
   "outputs": [
    {
     "name": "stdout",
     "output_type": "stream",
     "text": [
      "hi\n",
      "hi\n",
      "hi\n",
      "hi\n",
      "hi\n",
      "***********Eng*********\n"
     ]
    }
   ],
   "source": [
    "#Example 4\n",
    "x='Hello'\n",
    "y=5\n",
    "while type(x) is str:\n",
    "    print('hi')\n",
    "    y+=1\n",
    "    if(y>9):\n",
    "        x=y\n",
    "print('***********Eng*********')"
   ]
  },
  {
   "cell_type": "code",
   "execution_count": 2,
   "id": "ddad6cdb-8c02-465a-9cbb-15d53b180f16",
   "metadata": {},
   "outputs": [
    {
     "name": "stdout",
     "output_type": "stream",
     "text": [
      "1\n",
      "Hello\n",
      "2\n",
      "Hello\n",
      "3\n",
      "Hello\n",
      "4\n",
      "Hello\n"
     ]
    }
   ],
   "source": [
    "for i in range(1,5):\n",
    "    print(i)\n",
    "    for j in range(i, i+2):\n",
    "        if((i+j)%2==0):\n",
    "            print(\"Hello\")\n",
    "        else:\n",
    "            continue"
   ]
  },
  {
   "cell_type": "code",
   "execution_count": 3,
   "id": "8dc428d9-3043-4daf-a23e-35c061a9627d",
   "metadata": {},
   "outputs": [
    {
     "name": "stdout",
     "output_type": "stream",
     "text": [
      "hi\n",
      "hi\n"
     ]
    }
   ],
   "source": [
    "for var1 in range(1,5):\n",
    "    for var2 in range(var1+1, 5):\n",
    "        if(var1+var2)%2==0:\n",
    "            print(\"hi\")\n",
    "            break\n",
    "        else:\n",
    "            continue\n",
    "        print(\"hello\")\n",
    "        break"
   ]
  },
  {
   "cell_type": "code",
   "execution_count": null,
   "id": "c4c9e29a-53ac-4163-9305-744b40c13997",
   "metadata": {},
   "outputs": [],
   "source": []
  }
 ],
 "metadata": {
  "kernelspec": {
   "display_name": "Python 3",
   "language": "python",
   "name": "python3"
  },
  "language_info": {
   "codemirror_mode": {
    "name": "ipython",
    "version": 3
   },
   "file_extension": ".py",
   "mimetype": "text/x-python",
   "name": "python",
   "nbconvert_exporter": "python",
   "pygments_lexer": "ipython3",
   "version": "3.9.7"
  }
 },
 "nbformat": 4,
 "nbformat_minor": 5
}
