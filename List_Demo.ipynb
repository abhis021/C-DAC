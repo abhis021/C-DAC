{
 "cells": [
  {
   "cell_type": "markdown",
   "metadata": {},
   "source": [
    "## Lists and its various implementation"
   ]
  },
  {
   "cell_type": "code",
   "execution_count": null,
   "metadata": {},
   "outputs": [],
   "source": [
    "# Initializing list\n",
    "lst=[\"zero\",1,2,3,4,5,'six']\n",
    "print('List: ',lst)"
   ]
  },
  {
   "cell_type": "code",
   "execution_count": 1,
   "metadata": {},
   "outputs": [
    {
     "data": {
      "text/plain": [
       "['cat', [1, 2, 3], ['a', 'b', 'c']]"
      ]
     },
     "execution_count": 1,
     "metadata": {},
     "output_type": "execute_result"
    }
   ],
   "source": [
    "# nested list\n",
    "my_list = [\"cat\", [1,2,3], ['a','b','c']]\n",
    "my_list"
   ]
  },
  {
   "cell_type": "code",
   "execution_count": 2,
   "metadata": {},
   "outputs": [
    {
     "name": "stdout",
     "output_type": "stream",
     "text": [
      "First item of list: cat\n",
      "Second item of list: [1, 2, 3]\n",
      "Third item of list: ['a', 'b', 'c']\n",
      "Third item of list and second item of list inside it: b\n"
     ]
    }
   ],
   "source": [
    "#Indexing in list\n",
    "print('First item of list:',my_list[0])\n",
    "print('Second item of list:',my_list[1])\n",
    "print('Third item of list:',my_list[2])\n",
    "print('Third item of list and second item of list inside it:',my_list[2][1])"
   ]
  },
  {
   "cell_type": "code",
   "execution_count": 3,
   "metadata": {},
   "outputs": [
    {
     "name": "stdout",
     "output_type": "stream",
     "text": [
      "Length of a list: 3\n"
     ]
    }
   ],
   "source": [
    "# length of list\n",
    "length_of_list=len(my_list) # len() is a built-in function can be used with any iterable\n",
    "print('Length of a list:',length_of_list)"
   ]
  },
  {
   "cell_type": "code",
   "execution_count": 4,
   "metadata": {},
   "outputs": [
    {
     "name": "stdout",
     "output_type": "stream",
     "text": [
      "Element at index -3: cat\n"
     ]
    },
    {
     "ename": "IndexError",
     "evalue": "list index out of range",
     "output_type": "error",
     "traceback": [
      "\u001b[1;31m---------------------------------------------------------------------------\u001b[0m",
      "\u001b[1;31mIndexError\u001b[0m                                Traceback (most recent call last)",
      "\u001b[1;32m<ipython-input-4-e9b32d44e712>\u001b[0m in \u001b[0;36m<module>\u001b[1;34m\u001b[0m\n\u001b[0;32m      2\u001b[0m \u001b[0mprint\u001b[0m\u001b[1;33m(\u001b[0m\u001b[1;34m'Element at index -%d:'\u001b[0m\u001b[1;33m%\u001b[0m\u001b[1;33m(\u001b[0m\u001b[0mlength_of_list\u001b[0m\u001b[1;33m)\u001b[0m\u001b[1;33m,\u001b[0m\u001b[0mmy_list\u001b[0m\u001b[1;33m[\u001b[0m\u001b[1;33m-\u001b[0m\u001b[0mlength_of_list\u001b[0m\u001b[1;33m]\u001b[0m\u001b[1;33m)\u001b[0m \u001b[1;31m# will print first element of list\u001b[0m\u001b[1;33m\u001b[0m\u001b[1;33m\u001b[0m\u001b[0m\n\u001b[0;32m      3\u001b[0m \u001b[1;33m\u001b[0m\u001b[0m\n\u001b[1;32m----> 4\u001b[1;33m \u001b[0mprint\u001b[0m\u001b[1;33m(\u001b[0m\u001b[1;34m'Element at index %d:'\u001b[0m\u001b[1;33m%\u001b[0m\u001b[1;33m(\u001b[0m\u001b[0mlength_of_list\u001b[0m\u001b[1;33m)\u001b[0m\u001b[1;33m,\u001b[0m\u001b[0mmy_list\u001b[0m\u001b[1;33m[\u001b[0m\u001b[0mlength_of_list\u001b[0m\u001b[1;33m]\u001b[0m\u001b[1;33m)\u001b[0m \u001b[1;31m# Index out of range error because it is not a valid index\u001b[0m\u001b[1;33m\u001b[0m\u001b[1;33m\u001b[0m\u001b[0m\n\u001b[0m",
      "\u001b[1;31mIndexError\u001b[0m: list index out of range"
     ]
    }
   ],
   "source": [
    "# Proper indexing\n",
    "print('Element at index -%d:'%(length_of_list),my_list[-length_of_list]) # will print first element of list\n",
    "\n",
    "print('Element at index %d:'%(length_of_list),my_list[length_of_list]) # Index out of range error because it is not a valid index"
   ]
  },
  {
   "cell_type": "code",
   "execution_count": null,
   "metadata": {},
   "outputs": [],
   "source": [
    "# Wilson wants to input his sales of the week in list\n",
    "sales=map(int,input('Sales data(seperated by comma): ').split(','))\n",
    "print('Map Object for above Sales of the week:',sales)"
   ]
  },
  {
   "cell_type": "code",
   "execution_count": null,
   "metadata": {},
   "outputs": [],
   "source": [
    "# Map return an iterable, so wilson will have to convert it to a list\n",
    "sales=list(sales)\n",
    "print('Sales of the week:',sales)"
   ]
  },
  {
   "cell_type": "code",
   "execution_count": null,
   "metadata": {},
   "outputs": [],
   "source": [
    "# To just print the sales of first 5 days\n",
    "print('Sales of first 5 days:',sales[:5])\n",
    "\n",
    "# Apparently wilson made a mistake in entering data\n",
    "index=sales.index(200)\n",
    "sales.remove(200)\n",
    "sales.insert(index,700)\n",
    "print('Sales after correction: {}'.format(sales))\n"
   ]
  },
  {
   "cell_type": "code",
   "execution_count": null,
   "metadata": {},
   "outputs": [],
   "source": [
    "# He wants to sort the sales in ascending order\n",
    "sales.sort()\n",
    "print('Sorted sales in ascending order:',sales)\n",
    "# To print in reverse order, :: means nothing for first argument and second argument. \n",
    "# :: works as-> [start:stop(exclusive):step]\n",
    "# Third parameter is required number of steps to take\n",
    "print('Sorted sales in descending order:',sales[::-1])"
   ]
  },
  {
   "cell_type": "code",
   "execution_count": null,
   "metadata": {},
   "outputs": [],
   "source": [
    "# More about the ::\n",
    "numbers=[1,2,3,4,5,6,7,8,9,10,11,12,13,14,15,16,17,18,19,20]\n",
    "print('Odd numbers:',numbers[::2])  # To print odd only\n",
    "print('Even numbers:',numbers[1::2]) # To print even only"
   ]
  },
  {
   "cell_type": "code",
   "execution_count": null,
   "metadata": {},
   "outputs": [],
   "source": [
    "# Now wilson wants to add data for second week to sales\n",
    "second_week=[651,752,673,85,567,750]\n",
    "sales.extend(second_week)\n",
    "print('Sales in last two weeks:',sales)\n",
    "\n",
    "# Well second_week does not have data for last day\n",
    "last_day=int(input('Last day sales:'))\n",
    "sales.append(last_day)\n",
    "print('Sales in last two weeks(appended last day sales):',sales)\n"
   ]
  },
  {
   "cell_type": "code",
   "execution_count": null,
   "metadata": {},
   "outputs": [],
   "source": [
    "# Total sales\n",
    "print('Total sales:',sum(sales))\n",
    "\n",
    "# Maximum Sales\n",
    "print('Maximum Sales:',max(sales))\n",
    "# Minimum Sales\n",
    "print('Minimum Sales:',min(sales))"
   ]
  },
  {
   "cell_type": "code",
   "execution_count": null,
   "metadata": {},
   "outputs": [],
   "source": [
    "# He no more needs the second_week data seperately\n",
    "del second_week\n",
    "print(second_week)  # it will throw error as second week list deleted in previous step\n",
    "#Note: del will unbind the name 'second_week' from the list object. It will not delete the data appended to Sales"
   ]
  },
  {
   "cell_type": "code",
   "execution_count": null,
   "metadata": {},
   "outputs": [],
   "source": [
    "# printing list the elegant way\n",
    "print('Sales: ',end='') # 'end' argument appends a string after the last value, default is a newline.\n",
    "print(*sales,sep='|')   # 'sep' argument inserts a string between multiple values"
   ]
  },
  {
   "cell_type": "code",
   "execution_count": null,
   "metadata": {},
   "outputs": [],
   "source": [
    "# pop() and remove()\n",
    "list1=[10,20,30,40,50]\n",
    "list1.pop() # It pops the last element and returns\n",
    "list1.pop(2) # It pops the element at index 2 and returns\n",
    "list1.remove(40) # it removes the value 40"
   ]
  },
  {
   "cell_type": "code",
   "execution_count": null,
   "metadata": {},
   "outputs": [],
   "source": [
    "list1"
   ]
  },
  {
   "cell_type": "code",
   "execution_count": null,
   "metadata": {},
   "outputs": [],
   "source": [
    "list1.remove(60)    # It will remove the value/entry as 60 if present in list1"
   ]
  },
  {
   "cell_type": "code",
   "execution_count": null,
   "metadata": {},
   "outputs": [],
   "source": [
    "# Extend vs Append in list\n",
    "\n",
    "list1=[10,20,30,40]\n",
    "list2=[50,60]\n",
    "list3=[70,80]\n",
    "list1.extend(list2) # It adds two elements at two separate index positions\n",
    "list1\n",
    "list1.append(list3) # It appends list3 as a single element.\n",
    "list1"
   ]
  },
  {
   "cell_type": "code",
   "execution_count": null,
   "metadata": {},
   "outputs": [],
   "source": [
    "# sorted vs sort\n",
    "list1=[30,10,50,40]\n",
    "print(sorted(list1))  # It will sort list1 and print but originally the list will not be modified\n",
    "print(list1)\n",
    "list2=[5,40,2,30]\n",
    "list2.sort()   # It actually sorts i.e. modifies the list\n",
    "print(list2)"
   ]
  },
  {
   "cell_type": "markdown",
   "metadata": {},
   "source": [
    "## Is it possible to remember all the methods of list?  It is not easy. Then can we list out all the methods supported in a list? Yes, you can.\n"
   ]
  },
  {
   "cell_type": "code",
   "execution_count": null,
   "metadata": {},
   "outputs": [],
   "source": [
    "for i in dir(list1):\n",
    "    print(i)"
   ]
  },
  {
   "cell_type": "markdown",
   "metadata": {},
   "source": [
    "## How to check documentation of any API?"
   ]
  },
  {
   "cell_type": "code",
   "execution_count": null,
   "metadata": {},
   "outputs": [],
   "source": [
    "print(list1.insert.__doc__)"
   ]
  },
  {
   "cell_type": "markdown",
   "metadata": {},
   "source": [
    "## List Comprehension"
   ]
  },
  {
   "cell_type": "code",
   "execution_count": null,
   "metadata": {},
   "outputs": [],
   "source": [
    "## List Comprehension\n",
    "\n",
    "a=[1,2,3,4]\n",
    "b=[i**2 for i in a]\n",
    "print(b)"
   ]
  },
  {
   "cell_type": "code",
   "execution_count": null,
   "metadata": {},
   "outputs": [],
   "source": [
    "c=[i**2 for i in a if i<3]\n",
    "print(c)"
   ]
  },
  {
   "cell_type": "code",
   "execution_count": null,
   "metadata": {},
   "outputs": [],
   "source": [
    "#print the list after removing the 0th,4th,5th numbers in [12,24,35,70,88,120,155].\n",
    "\n",
    "list1=[12,24,35,24,88,120,155]\n",
    "list2=[list1[i] for i in range(0,len(list1)) if i not in [0,4,5]]\n",
    "print(list2)"
   ]
  }
 ],
 "metadata": {
  "kernelspec": {
   "display_name": "Python 3",
   "language": "python",
   "name": "python3"
  },
  "language_info": {
   "codemirror_mode": {
    "name": "ipython",
    "version": 3
   },
   "file_extension": ".py",
   "mimetype": "text/x-python",
   "name": "python",
   "nbconvert_exporter": "python",
   "pygments_lexer": "ipython3",
   "version": "3.7.6"
  }
 },
 "nbformat": 4,
 "nbformat_minor": 2
}
