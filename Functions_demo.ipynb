{
 "cells": [
  {
   "cell_type": "code",
   "execution_count": 1,
   "metadata": {},
   "outputs": [
    {
     "name": "stdout",
     "output_type": "stream",
     "text": [
      "This is your first function\n"
     ]
    }
   ],
   "source": [
    "# Example 1\n",
    "\n",
    "def func_1():   # Function Header\n",
    "    print('This is your first function')  # Function Body\n",
    "func_1()   # Function call"
   ]
  },
  {
   "cell_type": "code",
   "execution_count": 2,
   "metadata": {},
   "outputs": [
    {
     "name": "stdout",
     "output_type": "stream",
     "text": [
      "15\n"
     ]
    }
   ],
   "source": [
    "# Example 2\n",
    "\n",
    "def func_2(x):    # x is formal argument or parameter\n",
    "    y=10      # y is a local variable whose scope lies within the function only\n",
    "    print(x+y)\n",
    "func_2(5) # 5 is the actual parameter. It is mandatory to pass this parameter"
   ]
  },
  {
   "cell_type": "code",
   "execution_count": 1,
   "metadata": {},
   "outputs": [
    {
     "name": "stdout",
     "output_type": "stream",
     "text": [
      "Hello Python\n",
      "11\n",
      "Hello Python\n",
      "11\n",
      "Enter 1st operand 2\n",
      "Enter 2nd operand 3\n",
      "Hello Python\n",
      "5\n"
     ]
    }
   ],
   "source": [
    "# Example 3\n",
    "\n",
    "def func_3(a,b):\n",
    "    print('Hello Python')\n",
    "    return a+b   # return statement terminates the execution of function and control goes back to the calling position\n",
    "# Method 1\n",
    "x=func_3(5,6)\n",
    "print(x)\n",
    "\n",
    "# Method 2\n",
    "print(func_3(5,6))\n",
    "\n",
    "# Method 3\n",
    "print(func_3(eval(input('Enter 1st operand ')),eval(input('Enter 2nd operand '))))"
   ]
  },
  {
   "cell_type": "markdown",
   "metadata": {},
   "source": [
    "## Can we have two return statements in a function?"
   ]
  },
  {
   "cell_type": "code",
   "execution_count": 2,
   "metadata": {},
   "outputs": [
    {
     "data": {
      "text/plain": [
       "'even'"
      ]
     },
     "execution_count": 2,
     "metadata": {},
     "output_type": "execute_result"
    }
   ],
   "source": [
    "# Example 4\n",
    "\n",
    "def func_4(x):\n",
    "    if(x%2==0):\n",
    "        return 'even'\n",
    "    return 'odd'\n",
    "func_4(10)\n",
    "#Please note that we can have multiple return statements but only of that will execute and that will be the last thing to be \n",
    "#executed in that called function"
   ]
  },
  {
   "cell_type": "markdown",
   "metadata": {},
   "source": [
    "## Function arguments -various types and applications"
   ]
  },
  {
   "cell_type": "code",
   "execution_count": 3,
   "metadata": {},
   "outputs": [
    {
     "name": "stdout",
     "output_type": "stream",
     "text": [
      "Enter age32\n",
      "Enter namedeb\n",
      "Your age is: 32\n",
      "Your name is: deb\n",
      "Your age is: deb\n",
      "Your name is: 32\n"
     ]
    }
   ],
   "source": [
    "# Example 5\n",
    "# Positional Required argument\n",
    "\n",
    "def func_5(age,name):\n",
    "    print('Your age is:', age)\n",
    "    print('Your name is:', name)\n",
    "user_age=input('Enter age')\n",
    "user_name=input('Enter name')\n",
    "func_5(user_age,user_name)\n",
    "func_5(user_name,user_age)  # This function call won't throw an error but at the place of age, name will be displayed. So, \n",
    "                            # here argument position matters"
   ]
  },
  {
   "cell_type": "code",
   "execution_count": 4,
   "metadata": {},
   "outputs": [
    {
     "name": "stdout",
     "output_type": "stream",
     "text": [
      "Enter age32\n",
      "Enter nameDeba\n",
      "Your age is: 32\n",
      "Your name is: Deba\n",
      "Your age is: 32\n",
      "Your name is: Deba\n"
     ]
    }
   ],
   "source": [
    "#Example 6\n",
    "# Keyword argument\n",
    "# Example 5\n",
    "# Positional Required argument\n",
    "\n",
    "def func_5(age,name):\n",
    "    print('Your age is:', age)\n",
    "    print('Your name is:', name)\n",
    "user_age=input('Enter age')\n",
    "user_name=input('Enter name')\n",
    "func_5(age=user_age,name=user_name)\n",
    "func_5(name=user_name,age=user_age)  # In this function call, we have mentioned the keyword name \n",
    "                           \n"
   ]
  },
  {
   "cell_type": "markdown",
   "metadata": {},
   "source": [
    "## Can we have positional and keyword argument call together? If yes, do we have any specific rule regarding that? "
   ]
  },
  {
   "cell_type": "code",
   "execution_count": 5,
   "metadata": {},
   "outputs": [
    {
     "ename": "SyntaxError",
     "evalue": "positional argument follows keyword argument (<ipython-input-5-10660b7c1a8e>, line 8)",
     "output_type": "error",
     "traceback": [
      "\u001b[0;36m  File \u001b[0;32m\"<ipython-input-5-10660b7c1a8e>\"\u001b[0;36m, line \u001b[0;32m8\u001b[0m\n\u001b[0;31m    func_5(age=user_age,user_name)  #Error Line\u001b[0m\n\u001b[0m                       ^\u001b[0m\n\u001b[0;31mSyntaxError\u001b[0m\u001b[0;31m:\u001b[0m positional argument follows keyword argument\n"
     ]
    }
   ],
   "source": [
    "# Example 7\n",
    "def func_5(age,name):\n",
    "    print('Your age is:', age)\n",
    "    print('Your name is:', name)\n",
    "user_age=input('Enter age')\n",
    "user_name=input('Enter name')\n",
    "func_5(user_age,name=user_name)\n",
    "func_5(age=user_age,user_name)  #Error Line\n",
    "\n",
    "# Please remember that, you can use both together. But once keyword argument is written, after that positional can't be written"
   ]
  },
  {
   "cell_type": "code",
   "execution_count": 7,
   "metadata": {},
   "outputs": [
    {
     "name": "stdout",
     "output_type": "stream",
     "text": [
      "Enter age 32\n",
      "Enter name Deba\n",
      "Your age is: 32\n",
      "Your name is: Deba\n"
     ]
    }
   ],
   "source": [
    "# Example 8  ( Here it is mixed, but the rule has been followed)\n",
    "def func_5(age,name):\n",
    "    print('Your age is:', age)\n",
    "    print('Your name is:', name)\n",
    "user_age=input('Enter age ')\n",
    "user_name=input('Enter name ')\n",
    "func_5(user_age,name=user_name)"
   ]
  },
  {
   "cell_type": "code",
   "execution_count": 8,
   "metadata": {},
   "outputs": [
    {
     "ename": "SyntaxError",
     "evalue": "non-default argument follows default argument (<ipython-input-8-2d8569c57d8c>, line 7)",
     "output_type": "error",
     "traceback": [
      "\u001b[0;36m  File \u001b[0;32m\"<ipython-input-8-2d8569c57d8c>\"\u001b[0;36m, line \u001b[0;32m7\u001b[0m\n\u001b[0;31m    def func_5(age=20,name):\u001b[0m\n\u001b[0m              ^\u001b[0m\n\u001b[0;31mSyntaxError\u001b[0m\u001b[0;31m:\u001b[0m non-default argument follows default argument\n"
     ]
    }
   ],
   "source": [
    "# Default Argument \n",
    "# It means that you can mention a default value for an argument while defining the function. So, even though you don't pass the\n",
    "# value for that particular argument while calling the function, it takes the default value. But non-default argument can't be\n",
    "# written after default argument. Please observe the same error in this code\n",
    "# Example 9\n",
    "\n",
    "def func_5(age=20,name):\n",
    "    print('Your age is:', age)\n",
    "    print('Your name is:', name)\n",
    "user_age=input('Enter age')\n",
    "user_name=input('Enter name')\n",
    "func_5(name=user_name)"
   ]
  },
  {
   "cell_type": "code",
   "execution_count": 10,
   "metadata": {},
   "outputs": [
    {
     "name": "stdout",
     "output_type": "stream",
     "text": [
      "Enter age 32\n",
      "Enter name Debasis\n",
      "Your age is: 20\n",
      "Your name is: Debasis\n"
     ]
    }
   ],
   "source": [
    "# Example 10\n",
    "def func_5(name,age=20):\n",
    "    print('Your age is:', age)\n",
    "    print('Your name is:', name)\n",
    "user_age=input('Enter age ')\n",
    "user_name=input('Enter name ')\n",
    "func_5(name=user_name)"
   ]
  },
  {
   "cell_type": "code",
   "execution_count": 11,
   "metadata": {},
   "outputs": [
    {
     "name": "stdout",
     "output_type": "stream",
     "text": [
      "10\n",
      "20\n",
      "()\n",
      "10\n",
      "20\n",
      "(30,)\n",
      "10\n",
      "20\n",
      "(30, 40)\n"
     ]
    },
    {
     "ename": "TypeError",
     "evalue": "func_6() missing 1 required positional argument: 'arg2'",
     "output_type": "error",
     "traceback": [
      "\u001b[0;31m---------------------------------------------------------------------------\u001b[0m",
      "\u001b[0;31mTypeError\u001b[0m                                 Traceback (most recent call last)",
      "\u001b[0;32m<ipython-input-11-63af31769ec3>\u001b[0m in \u001b[0;36m<module>\u001b[0;34m\u001b[0m\n\u001b[1;32m      9\u001b[0m \u001b[0mfunc_6\u001b[0m\u001b[0;34m(\u001b[0m\u001b[0;36m10\u001b[0m\u001b[0;34m,\u001b[0m\u001b[0;36m20\u001b[0m\u001b[0;34m,\u001b[0m\u001b[0;36m30\u001b[0m\u001b[0;34m)\u001b[0m\u001b[0;34m\u001b[0m\u001b[0;34m\u001b[0m\u001b[0m\n\u001b[1;32m     10\u001b[0m \u001b[0mfunc_6\u001b[0m\u001b[0;34m(\u001b[0m\u001b[0;36m10\u001b[0m\u001b[0;34m,\u001b[0m\u001b[0;36m20\u001b[0m\u001b[0;34m,\u001b[0m\u001b[0;36m30\u001b[0m\u001b[0;34m,\u001b[0m\u001b[0;36m40\u001b[0m\u001b[0;34m)\u001b[0m\u001b[0;34m\u001b[0m\u001b[0;34m\u001b[0m\u001b[0m\n\u001b[0;32m---> 11\u001b[0;31m \u001b[0mfunc_6\u001b[0m\u001b[0;34m(\u001b[0m\u001b[0;36m10\u001b[0m\u001b[0;34m)\u001b[0m  \u001b[0;31m# Invalid functional as there are two mandatory arguments present\u001b[0m\u001b[0;34m\u001b[0m\u001b[0;34m\u001b[0m\u001b[0m\n\u001b[0m",
      "\u001b[0;31mTypeError\u001b[0m: func_6() missing 1 required positional argument: 'arg2'"
     ]
    }
   ],
   "source": [
    "## Variable Length Arguments\n",
    "# Example 11\n",
    "\n",
    "def func_6(arg1,arg2,*arg3):   # It means while calling the function you must pass 2 argument and zero or more other arguments\n",
    "    print(arg1)\n",
    "    print(arg2)\n",
    "    print(arg3)\n",
    "func_6(10,20)\n",
    "func_6(10,20,30)\n",
    "func_6(10,20,30,40)\n",
    "func_6(10)  # Invalid functional as there are two mandatory arguments present"
   ]
  },
  {
   "cell_type": "code",
   "execution_count": 12,
   "metadata": {},
   "outputs": [
    {
     "ename": "TypeError",
     "evalue": "func_6() missing 1 required keyword-only argument: 'arg4'",
     "output_type": "error",
     "traceback": [
      "\u001b[0;31m---------------------------------------------------------------------------\u001b[0m",
      "\u001b[0;31mTypeError\u001b[0m                                 Traceback (most recent call last)",
      "\u001b[0;32m<ipython-input-12-bb9096673284>\u001b[0m in \u001b[0;36m<module>\u001b[0;34m\u001b[0m\n\u001b[1;32m      7\u001b[0m     \u001b[0mprint\u001b[0m\u001b[0;34m(\u001b[0m\u001b[0marg3\u001b[0m\u001b[0;34m)\u001b[0m\u001b[0;34m\u001b[0m\u001b[0;34m\u001b[0m\u001b[0m\n\u001b[1;32m      8\u001b[0m     \u001b[0mprint\u001b[0m\u001b[0;34m(\u001b[0m\u001b[0marg4\u001b[0m\u001b[0;34m)\u001b[0m\u001b[0;34m\u001b[0m\u001b[0;34m\u001b[0m\u001b[0m\n\u001b[0;32m----> 9\u001b[0;31m \u001b[0mfunc_6\u001b[0m\u001b[0;34m(\u001b[0m\u001b[0;36m10\u001b[0m\u001b[0;34m,\u001b[0m\u001b[0;36m20\u001b[0m\u001b[0;34m,\u001b[0m\u001b[0;36m30\u001b[0m\u001b[0;34m)\u001b[0m\u001b[0;34m\u001b[0m\u001b[0;34m\u001b[0m\u001b[0m\n\u001b[0m\u001b[1;32m     10\u001b[0m \u001b[0mfunc_6\u001b[0m\u001b[0;34m(\u001b[0m\u001b[0;36m10\u001b[0m\u001b[0;34m,\u001b[0m\u001b[0;36m20\u001b[0m\u001b[0;34m,\u001b[0m\u001b[0;36m30\u001b[0m\u001b[0;34m)\u001b[0m\u001b[0;34m\u001b[0m\u001b[0;34m\u001b[0m\u001b[0m\n",
      "\u001b[0;31mTypeError\u001b[0m: func_6() missing 1 required keyword-only argument: 'arg4'"
     ]
    }
   ],
   "source": [
    "# Example 12\n",
    "# Please check the bug in this code. What is the problem? The problem is that, you shouldn't write any mandatory argument after\n",
    "# writing variable argument. You can write in one way. For that, check the next code\n",
    "def func_6(arg1,arg2,*arg3,arg4):  \n",
    "    print(arg1)\n",
    "    print(arg2)\n",
    "    print(arg3)\n",
    "    print(arg4)\n",
    "func_6(10,20,30)\n",
    "func_6(10,20,30)"
   ]
  },
  {
   "cell_type": "code",
   "execution_count": 13,
   "metadata": {},
   "outputs": [
    {
     "name": "stdout",
     "output_type": "stream",
     "text": [
      "10\n",
      "20\n",
      "(30,)\n",
      "50\n",
      "10\n",
      "20\n",
      "(30,)\n",
      "50\n"
     ]
    }
   ],
   "source": [
    "# Example 13\n",
    "def func_6(arg1,arg2,*arg3,arg4=50):  \n",
    "    print(arg1)\n",
    "    print(arg2)\n",
    "    print(arg3)\n",
    "    print(arg4)\n",
    "func_6(10,20,30)\n",
    "func_6(10,20,30)"
   ]
  },
  {
   "cell_type": "code",
   "execution_count": 14,
   "metadata": {},
   "outputs": [
    {
     "ename": "SyntaxError",
     "evalue": "invalid syntax (<ipython-input-14-e1518423abb1>, line 3)",
     "output_type": "error",
     "traceback": [
      "\u001b[0;36m  File \u001b[0;32m\"<ipython-input-14-e1518423abb1>\"\u001b[0;36m, line \u001b[0;32m3\u001b[0m\n\u001b[0;31m    def func_6(arg1,arg2,*arg3,*arg5):\u001b[0m\n\u001b[0m                               ^\u001b[0m\n\u001b[0;31mSyntaxError\u001b[0m\u001b[0;31m:\u001b[0m invalid syntax\n"
     ]
    }
   ],
   "source": [
    "# Example 14\n",
    "# This is not the write way of coding.There is no point of writing two variable arguments.This is a bug\n",
    "def func_6(arg1,arg2,*arg3,*arg5):  \n",
    "    print(arg1)\n",
    "    print(arg2)\n",
    "    print(arg3)\n",
    "    print(arg4)\n",
    "    print(arg5)\n",
    "func_6(10,20,30,40)\n",
    "func_6(10,20,30,60,70,80)"
   ]
  },
  {
   "cell_type": "code",
   "execution_count": 15,
   "metadata": {},
   "outputs": [
    {
     "name": "stdout",
     "output_type": "stream",
     "text": [
      "10\n",
      "20\n",
      "(30, 40)\n",
      "{'name': 'Abhijit', 'country': 'India'}\n"
     ]
    }
   ],
   "source": [
    "# Example 15\n",
    "# Variable keyarguments stored as a dictionary\n",
    "def func_7(arg1,arg2,*arg3,**keyargs):\n",
    "    print(arg1)\n",
    "    print(arg2)\n",
    "    print(arg3)\n",
    "    print(str(keyargs))\n",
    "func_7(10,20,30,40,name='Abhijit',country='India')"
   ]
  },
  {
   "cell_type": "markdown",
   "metadata": {},
   "source": [
    "## Local Variable vs Global Variable, Global Keyword, Memory address, id()"
   ]
  },
  {
   "cell_type": "code",
   "execution_count": 16,
   "metadata": {},
   "outputs": [
    {
     "name": "stdout",
     "output_type": "stream",
     "text": [
      "94175701718656\n",
      "94175701718656\n"
     ]
    }
   ],
   "source": [
    "# Example 1   \n",
    "# Although x and y are two different variables, it will have same memory addess\n",
    "x=20\n",
    "y=20\n",
    "print(id(x))\n",
    "print(id(y))"
   ]
  },
  {
   "cell_type": "code",
   "execution_count": 17,
   "metadata": {},
   "outputs": [
    {
     "name": "stdout",
     "output_type": "stream",
     "text": [
      "140665969704584\n",
      "140665969702536\n",
      "140665960546696\n",
      "140666031300184\n"
     ]
    }
   ],
   "source": [
    "# Example 2\n",
    "# But, kindly check for list. The address is not going to be same.\n",
    "list1=[1,2,3]\n",
    "list2=[1,2,3]\n",
    "tuple1=(1,2,3)\n",
    "list3=list(tuple1)\n",
    "print(id(list1))\n",
    "print(id(list2))\n",
    "print(id(list3))\n",
    "print(id(tuple1))"
   ]
  },
  {
   "cell_type": "code",
   "execution_count": 18,
   "metadata": {},
   "outputs": [
    {
     "name": "stdout",
     "output_type": "stream",
     "text": [
      "200\n",
      "94175701724416\n",
      "100\n",
      "94175701721216\n"
     ]
    }
   ],
   "source": [
    "# Example 3\n",
    "# Local vs Global Variable\n",
    "\n",
    "a=100  # This is global variable a\n",
    "def func_8():\n",
    "    a=200   # This is local variable a\n",
    "    print(a)\n",
    "    print(id(a))  # This is the memory address of local variable a\n",
    "func_8()\n",
    "print(a)\n",
    "print(id(a)) # This is the memory address of global variable a"
   ]
  },
  {
   "cell_type": "code",
   "execution_count": 19,
   "metadata": {},
   "outputs": [
    {
     "name": "stdout",
     "output_type": "stream",
     "text": [
      "200\n",
      "94175701724416\n",
      "200\n",
      "94175701724416\n"
     ]
    }
   ],
   "source": [
    "# Example 4\n",
    "# Local vs Global Variable\n",
    "# I want to modify the gloabl variable inside a function. What should I do?\n",
    "a=100  # This is global variable a\n",
    "def func_8():\n",
    "    global a\n",
    "    a=200   # This is now global variable a\n",
    "    print(a)\n",
    "    print(id(a))  # This is the memory address of global variable a\n",
    "func_8()\n",
    "print(a)\n",
    "print(id(a)) # This is the memory address of global variable a"
   ]
  },
  {
   "cell_type": "code",
   "execution_count": 20,
   "metadata": {},
   "outputs": [
    {
     "name": "stdout",
     "output_type": "stream",
     "text": [
      "199\n"
     ]
    }
   ],
   "source": [
    "# Example 5\n",
    "# In this code, by writing global a before the value assignment line, we have made the behaviour of a to be global. So it is\n",
    "# accessible outside\n",
    "def func_9():\n",
    "    global a\n",
    "    a=199\n",
    "func_9()\n",
    "print(a)"
   ]
  },
  {
   "cell_type": "code",
   "execution_count": 21,
   "metadata": {},
   "outputs": [
    {
     "ename": "NameError",
     "evalue": "name 'b' is not defined",
     "output_type": "error",
     "traceback": [
      "\u001b[0;31m---------------------------------------------------------------------------\u001b[0m",
      "\u001b[0;31mNameError\u001b[0m                                 Traceback (most recent call last)",
      "\u001b[0;32m<ipython-input-21-a015efcf08a5>\u001b[0m in \u001b[0;36m<module>\u001b[0;34m\u001b[0m\n\u001b[1;32m      4\u001b[0m     \u001b[0mb\u001b[0m\u001b[0;34m=\u001b[0m\u001b[0;36m100\u001b[0m\u001b[0;34m\u001b[0m\u001b[0;34m\u001b[0m\u001b[0m\n\u001b[1;32m      5\u001b[0m \u001b[0mfunc_9\u001b[0m\u001b[0;34m(\u001b[0m\u001b[0;34m)\u001b[0m\u001b[0;34m\u001b[0m\u001b[0;34m\u001b[0m\u001b[0m\n\u001b[0;32m----> 6\u001b[0;31m \u001b[0mprint\u001b[0m\u001b[0;34m(\u001b[0m\u001b[0mb\u001b[0m\u001b[0;34m)\u001b[0m\u001b[0;34m\u001b[0m\u001b[0;34m\u001b[0m\u001b[0m\n\u001b[0m",
      "\u001b[0;31mNameError\u001b[0m: name 'b' is not defined"
     ]
    }
   ],
   "source": [
    "# Example 6\n",
    "# In this case b acts as a local variable, so not accessible outside\n",
    "def func_9():\n",
    "    b=100\n",
    "func_9()\n",
    "print(b)"
   ]
  },
  {
   "cell_type": "code",
   "execution_count": 22,
   "metadata": {},
   "outputs": [
    {
     "ename": "SyntaxError",
     "evalue": "name 'a' is used prior to global declaration (cell_name, line 11)",
     "output_type": "error",
     "traceback": [
      "\u001b[0;36m  File \u001b[0;32m\"cell_name\"\u001b[0;36m, line \u001b[0;32m11\u001b[0m\n\u001b[0;31mSyntaxError\u001b[0m\u001b[0;31m:\u001b[0m name 'a' is used prior to global declaration\n"
     ]
    }
   ],
   "source": [
    "# Example 7\n",
    "# Check this bug\n",
    "a=100\n",
    "def func_10():\n",
    "    a=200\n",
    "    print(a)\n",
    "    print(id(a))\n",
    "    global a\n",
    "    a=300\n",
    "    print(id(a))\n",
    "func_10()\n",
    "print(a)\n",
    "print(id(a))"
   ]
  },
  {
   "cell_type": "code",
   "execution_count": 23,
   "metadata": {},
   "outputs": [
    {
     "name": "stdout",
     "output_type": "stream",
     "text": [
      "Welcome to Edureka 1\n",
      "Welcome to Edureka 2\n",
      "Welcome to Edureka 3\n",
      "Welcome to Edureka 4\n"
     ]
    }
   ],
   "source": [
    "for i in range(1,5):\n",
    "    print('Welcome to COER',i)\n",
    "    if(i>=4):\n",
    "        break\n",
    "else:\n",
    "    print('The for loop was successfully executed')"
   ]
  }
 ],
 "metadata": {
  "kernelspec": {
   "display_name": "Python 3",
   "language": "python",
   "name": "python3"
  },
  "language_info": {
   "codemirror_mode": {
    "name": "ipython",
    "version": 3
   },
   "file_extension": ".py",
   "mimetype": "text/x-python",
   "name": "python",
   "nbconvert_exporter": "python",
   "pygments_lexer": "ipython3",
   "version": "3.9.7"
  }
 },
 "nbformat": 4,
 "nbformat_minor": 4
}
