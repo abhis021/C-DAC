{
 "cells": [
  {
   "cell_type": "code",
   "execution_count": 3,
   "id": "f31bbe0b-7a5e-4545-8d86-9431a58f4c79",
   "metadata": {},
   "outputs": [
    {
     "name": "stdout",
     "output_type": "stream",
     "text": [
      "<__main__.number object at 0x0000023B75A3CC70>\n"
     ]
    }
   ],
   "source": [
    "class number:\n",
    "    pass\n",
    "x = number()\n",
    "print(x)"
   ]
  },
  {
   "cell_type": "code",
   "execution_count": 8,
   "id": "fa37c955-ea42-4988-9268-b90a5a025c70",
   "metadata": {},
   "outputs": [
    {
     "name": "stdout",
     "output_type": "stream",
     "text": [
      "hello I am stud\n"
     ]
    }
   ],
   "source": [
    "class myclas:\n",
    "    def stud(self):\n",
    "        print('hello I am stud')\n",
    "object1=myclas()\n",
    "object1.stud()"
   ]
  },
  {
   "cell_type": "code",
   "execution_count": 17,
   "id": "a382412d-52b4-43e0-b621-85694afafff4",
   "metadata": {},
   "outputs": [
    {
     "name": "stdout",
     "output_type": "stream",
     "text": [
      "<__main__.College object at 0x0000023B7597CCA0>\n",
      "2454399208608\n",
      "This is docustring over here got it.\n"
     ]
    }
   ],
   "source": [
    "class College:\n",
    "    \"\"\"This is docustring over here got it.\"\"\"\n",
    "    def method2(self):\n",
    "        print(self)\n",
    "        print(id(self))\n",
    "object2=College()\n",
    "object2.method2()\n",
    "print(College.__doc__)"
   ]
  },
  {
   "cell_type": "code",
   "execution_count": 15,
   "id": "a3e6e5b3",
   "metadata": {},
   "outputs": [
    {
     "name": "stdout",
     "output_type": "stream",
     "text": [
      "College.__dict__: {'__module__': '__main__', '__doc__': 'This is a documentation string here', 'empcount': 0, '__dict__': <attribute '__dict__' of 'College' objects>, '__weakref__': <attribute '__weakref__' of 'College' objects>}\n",
      "College.__doc__: This is a documentation string here\n",
      "College.__name__: College\n",
      "College.__module__: __main__\n",
      "College.__bases__ (<class 'object'>,)\n"
     ]
    }
   ],
   "source": [
    "class College:\n",
    "    \"\"\"This is a documentation string here\"\"\"\n",
    "    empcount = 0\n",
    "    print(\"College.__dict__:\", College.__dict__)\n",
    "    print(\"College.__doc__:\", College.__doc__)\n",
    "    print(\"College.__name__:\", College.__name__)\n",
    "    print(\"College.__module__:\", College.__module__)\n",
    "    print(\"College.__bases__\", College.__bases__)"
   ]
  },
  {
   "cell_type": "code",
   "execution_count": 28,
   "id": "36a32e65",
   "metadata": {},
   "outputs": [
    {
     "name": "stdout",
     "output_type": "stream",
     "text": [
      "Janwaro swagat hai\n",
      "21\n",
      "20\n",
      "10\n"
     ]
    }
   ],
   "source": [
    "sansarik = 10\n",
    "\n",
    "class Janwar:\n",
    "    grahik = 20\n",
    "    def tarika(self):\n",
    "        print(\"Janwaro swagat hai\")\n",
    "        self.grahik+=1\n",
    "        print(self.grahik)\n",
    "        return\n",
    "athing = Janwar()\n",
    "athing.tarika()\n",
    "print(Janwar.grahik)\n",
    "print(sansarik)"
   ]
  },
  {
   "cell_type": "code",
   "execution_count": 30,
   "id": "a1d358d3",
   "metadata": {},
   "outputs": [
    {
     "name": "stdout",
     "output_type": "stream",
     "text": [
      "welcome to the animal class\n",
      "21\n",
      "21\n",
      "20\n",
      "21\n",
      "25\n"
     ]
    }
   ],
   "source": [
    "global_var = 10\n",
    "class Animal:\n",
    "    local_var=20\n",
    "    def method4(self,):\n",
    "        print(\"welcome to the animal class\")\n",
    "        self.local_var+=1\n",
    "        print(self.local_var)\n",
    "tiger = Animal()\n",
    "tiger.method4()\n",
    "print(tiger.local_var)\n",
    "print(Animal.local_var)\n",
    "Animal.local_var = 25\n",
    "print(tiger.local_var)\n",
    "print(Animal.local_var)"
   ]
  },
  {
   "cell_type": "code",
   "execution_count": 36,
   "id": "ca51ca47",
   "metadata": {},
   "outputs": [
    {
     "name": "stdout",
     "output_type": "stream",
     "text": [
      "20\n",
      "10\n",
      "2454326176656\n",
      "2454326176336\n",
      "10\n",
      "10\n",
      "10\n",
      "25\n"
     ]
    }
   ],
   "source": [
    "class college:\n",
    "    x=10\n",
    "    def method(self, x):\n",
    "        x= 20\n",
    "        print(x)\n",
    "        print(self.x)\n",
    "        print(id(x))\n",
    "        print(id(self.x))\n",
    "        x+=1\n",
    "object = college()\n",
    "object.method(20)\n",
    "print(object.x)\n",
    "print(college.x)\n",
    "object.x =25\n",
    "print(college.x)\n",
    "print(object.x)"
   ]
  },
  {
   "cell_type": "code",
   "execution_count": null,
   "id": "88b93bd8",
   "metadata": {},
   "outputs": [],
   "source": []
  }
 ],
 "metadata": {
  "kernelspec": {
   "display_name": "Python 3",
   "language": "python",
   "name": "python3"
  },
  "language_info": {
   "codemirror_mode": {
    "name": "ipython",
    "version": 3
   },
   "file_extension": ".py",
   "mimetype": "text/x-python",
   "name": "python",
   "nbconvert_exporter": "python",
   "pygments_lexer": "ipython3",
   "version": "3.9.7"
  }
 },
 "nbformat": 4,
 "nbformat_minor": 5
}
